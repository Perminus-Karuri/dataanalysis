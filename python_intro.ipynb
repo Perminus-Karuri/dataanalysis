{
 "cells": [
  {
   "cell_type": "code",
   "execution_count": 1,
   "id": "1bd1a0e5-28bf-4232-9a39-e44e3d0d4177",
   "metadata": {},
   "outputs": [
    {
     "name": "stdout",
     "output_type": "stream",
     "text": [
      "Hello world!!\n"
     ]
    }
   ],
   "source": [
    "print('Hello world!!')"
   ]
  },
  {
   "cell_type": "code",
   "execution_count": 2,
   "id": "4b59c89a-665c-4157-b1da-f0a97c133eb9",
   "metadata": {},
   "outputs": [
    {
     "name": "stdout",
     "output_type": "stream",
     "text": [
      "['False', 'None', 'True', 'and', 'as', 'assert', 'async', 'await', 'break', 'class', 'continue', 'def', 'del', 'elif', 'else', 'except', 'finally', 'for', 'from', 'global', 'if', 'import', 'in', 'is', 'lambda', 'nonlocal', 'not', 'or', 'pass', 'raise', 'return', 'try', 'while', 'with', 'yield']\n",
      "\n",
      " list of python program keywords are: 35\n"
     ]
    }
   ],
   "source": [
    "import keyword\n",
    "\n",
    "print(keyword.kwlist)\n",
    "\n",
    "print(\"\\n list of python program keywords are:\", len(keyword.kwlist))"
   ]
  },
  {
   "cell_type": "code",
   "execution_count": 3,
   "id": "c1c8f82c-21c4-4938-ac6f-720150a8884a",
   "metadata": {},
   "outputs": [
    {
     "name": "stdout",
     "output_type": "stream",
     "text": [
      "I am learning python\n"
     ]
    }
   ],
   "source": [
    "print('I am learning python')  #this is a single line comment"
   ]
  },
  {
   "cell_type": "code",
   "execution_count": 4,
   "id": "e4c49b0e-6b98-49db-9e63-8404aa80bec1",
   "metadata": {},
   "outputs": [
    {
     "name": "stdout",
     "output_type": "stream",
     "text": [
      "This is a multi-line comment\n"
     ]
    },
    {
     "data": {
      "text/plain": [
       "'this is\\n    a\\n    multi-line comment'"
      ]
     },
     "execution_count": 4,
     "metadata": {},
     "output_type": "execute_result"
    }
   ],
   "source": [
    "print('This is a multi-line comment')\n",
    "\n",
    "'''this is\n",
    "    a\n",
    "    multi-line comment'''"
   ]
  },
  {
   "cell_type": "code",
   "execution_count": 5,
   "id": "c33aa3d3-94b4-4a75-b121-effb731613a3",
   "metadata": {},
   "outputs": [],
   "source": [
    "# a single line statement also known of assignment statement\n",
    "\n",
    "x = 100"
   ]
  },
  {
   "cell_type": "code",
   "execution_count": 6,
   "id": "9df89dac-c274-4a64-b401-ca9fa09f20f3",
   "metadata": {},
   "outputs": [
    {
     "data": {
      "text/plain": [
       "100"
      ]
     },
     "execution_count": 6,
     "metadata": {},
     "output_type": "execute_result"
    }
   ],
   "source": [
    "x"
   ]
  },
  {
   "cell_type": "code",
   "execution_count": 7,
   "id": "8588074a-ae63-4f92-981b-8cf15e3c99bd",
   "metadata": {},
   "outputs": [],
   "source": [
    "# this is a multi-line statement - by use of back-slash\n",
    "\n",
    "a = 1 + 2 + 3 + 4 \\\n",
    "    + 5 + 6 + 7 \\\n",
    "    + 8 + 9 + 10"
   ]
  },
  {
   "cell_type": "code",
   "execution_count": 8,
   "id": "1d3140ce-b49c-4aeb-ac12-7eeb7666e8c2",
   "metadata": {},
   "outputs": [
    {
     "data": {
      "text/plain": [
       "55"
      ]
     },
     "execution_count": 8,
     "metadata": {},
     "output_type": "execute_result"
    }
   ],
   "source": [
    "a"
   ]
  },
  {
   "cell_type": "code",
   "execution_count": 9,
   "id": "5e4b77e1-ac0c-4b13-a4cf-af3fc9cad0b9",
   "metadata": {},
   "outputs": [],
   "source": [
    "# this is a multi-line statement -  by use of a paranthensis\n",
    "\n",
    "a = (1 + 2 + 3 + 4\n",
    "    + 5 + 6 + 7 \n",
    "    + 8 + 9 + 10)"
   ]
  },
  {
   "cell_type": "code",
   "execution_count": 10,
   "id": "b2edef69-7b4c-4df5-90d7-fd19a53da7e3",
   "metadata": {},
   "outputs": [
    {
     "data": {
      "text/plain": [
       "55"
      ]
     },
     "execution_count": 10,
     "metadata": {},
     "output_type": "execute_result"
    }
   ],
   "source": [
    "a"
   ]
  },
  {
   "cell_type": "code",
   "execution_count": 11,
   "id": "2bd88c54-8075-4c8f-b0e9-2dbe7f04bac2",
   "metadata": {},
   "outputs": [],
   "source": [
    "# multiple statements in a single line - separated using a semi-colon\n",
    "\n",
    "a = 2; b = 3; c = 6"
   ]
  },
  {
   "cell_type": "code",
   "execution_count": 12,
   "id": "02404ea8-b6f6-468d-8b5d-5495a2d5c55b",
   "metadata": {},
   "outputs": [
    {
     "data": {
      "text/plain": [
       "2"
      ]
     },
     "execution_count": 12,
     "metadata": {},
     "output_type": "execute_result"
    }
   ],
   "source": [
    "a"
   ]
  },
  {
   "cell_type": "code",
   "execution_count": 13,
   "id": "4a6aa9c1-1268-4203-882c-0522ddf54bff",
   "metadata": {},
   "outputs": [
    {
     "name": "stdout",
     "output_type": "stream",
     "text": [
      "55\n"
     ]
    }
   ],
   "source": [
    "# this is a multi-line statement\n",
    "\n",
    "a = 1 + 2 + 3 + 4 \\\n",
    "    + 5 + 6 + 7 \\\n",
    "    + 8 + 9 + 10\n",
    "\n",
    "print(a)"
   ]
  },
  {
   "cell_type": "code",
   "execution_count": 14,
   "id": "d2be325b-7041-493a-91ea-6128eab59b95",
   "metadata": {},
   "outputs": [
    {
     "name": "stdout",
     "output_type": "stream",
     "text": [
      "2 4.3 Deng\n"
     ]
    }
   ],
   "source": [
    "# assigning multiple values to multiple multiple variables\n",
    "\n",
    "a, b, c, = 2, 4.3, 'Deng'\n",
    "\n",
    "print(a, b, c)"
   ]
  },
  {
   "cell_type": "code",
   "execution_count": 15,
   "id": "1cacb592-40bb-46fe-bca5-ad9c56e14a54",
   "metadata": {},
   "outputs": [],
   "source": [
    "# deleting a variable\n",
    "\n",
    "x = 11\n",
    "del x"
   ]
  },
  {
   "cell_type": "code",
   "execution_count": 16,
   "id": "c2bf9ed1-4a40-4b68-8b87-613c6b8101e9",
   "metadata": {},
   "outputs": [
    {
     "ename": "NameError",
     "evalue": "name 'x' is not defined",
     "output_type": "error",
     "traceback": [
      "\u001b[1;31m---------------------------------------------------------------------------\u001b[0m",
      "\u001b[1;31mNameError\u001b[0m                                 Traceback (most recent call last)",
      "Cell \u001b[1;32mIn[16], line 1\u001b[0m\n\u001b[1;32m----> 1\u001b[0m \u001b[38;5;28mid\u001b[39m(x)\n",
      "\u001b[1;31mNameError\u001b[0m: name 'x' is not defined"
     ]
    }
   ],
   "source": [
    "id(x)"
   ]
  },
  {
   "cell_type": "code",
   "execution_count": null,
   "id": "3476bc0e-cbb4-4fdd-8d29-1a7dbedd043a",
   "metadata": {},
   "outputs": [],
   "source": [
    "# python list\n",
    "\n",
    "[5, 10, 'school', 22-12j, True]"
   ]
  },
  {
   "cell_type": "code",
   "execution_count": 2,
   "id": "fe923b5c-452e-4a84-910b-81d5401bd560",
   "metadata": {},
   "outputs": [
    {
     "name": "stdout",
     "output_type": "stream",
     "text": [
      "[10, 20, 30, 40, 50, 60, 70]\n"
     ]
    }
   ],
   "source": [
    "x = [10, 20, 30, 40, 50, 60, 70]\n",
    "\n",
    "print(x)"
   ]
  },
  {
   "cell_type": "code",
   "execution_count": 3,
   "id": "3500b623-1852-459b-badd-5951df84e57a",
   "metadata": {},
   "outputs": [
    {
     "name": "stdout",
     "output_type": "stream",
     "text": [
      "[10, 20, 90, 40, 50, 60, 70]\n"
     ]
    }
   ],
   "source": [
    "x[2] = 90  #lists are mutable -  can be altered using the index\n",
    "print(x)"
   ]
  },
  {
   "cell_type": "code",
   "execution_count": 4,
   "id": "23b319f6-5808-4731-9743-58642abfbdad",
   "metadata": {},
   "outputs": [
    {
     "data": {
      "text/plain": [
       "[10, 20, 90]"
      ]
     },
     "execution_count": 4,
     "metadata": {},
     "output_type": "execute_result"
    }
   ],
   "source": [
    "# slicing values in a list\n",
    "\n",
    "x[0:3]"
   ]
  },
  {
   "cell_type": "code",
   "execution_count": 5,
   "id": "1ddff5a8-ea43-445f-80b9-0951c17b552f",
   "metadata": {},
   "outputs": [
    {
     "data": {
      "text/plain": [
       "[90, 40, 50, 60]"
      ]
     },
     "execution_count": 5,
     "metadata": {},
     "output_type": "execute_result"
    }
   ],
   "source": [
    "x[2:6]"
   ]
  },
  {
   "cell_type": "code",
   "execution_count": 6,
   "id": "5c90497b-8873-4fe4-8081-eeaaa1ff00d0",
   "metadata": {},
   "outputs": [
    {
     "data": {
      "text/plain": [
       "[10, 20, 90]"
      ]
     },
     "execution_count": 6,
     "metadata": {},
     "output_type": "execute_result"
    }
   ],
   "source": [
    "x[0:-4]"
   ]
  },
  {
   "cell_type": "code",
   "execution_count": 7,
   "id": "2774f892-4e34-4088-a55e-cb442969bba0",
   "metadata": {},
   "outputs": [
    {
     "name": "stdout",
     "output_type": "stream",
     "text": [
      "(20, 'school', (22+4j), True)\n"
     ]
    }
   ],
   "source": [
    "# TUPLES\n",
    "\n",
    "t = (20, 'school', 22+4j, True)\n",
    "\n",
    "print(t)"
   ]
  },
  {
   "cell_type": "code",
   "execution_count": 8,
   "id": "cd7a6ee0-cc95-479e-b18a-349e4be5faca",
   "metadata": {},
   "outputs": [
    {
     "data": {
      "text/plain": [
       "(20, 'school', (22+4j))"
      ]
     },
     "execution_count": 8,
     "metadata": {},
     "output_type": "execute_result"
    }
   ],
   "source": [
    "t[0:3]"
   ]
  },
  {
   "cell_type": "code",
   "execution_count": 9,
   "id": "5cd0a172-a49f-454f-81f1-13d922889dc7",
   "metadata": {},
   "outputs": [
    {
     "ename": "SyntaxError",
     "evalue": "cannot assign to function call here. Maybe you meant '==' instead of '='? (1390059648.py, line 1)",
     "output_type": "error",
     "traceback": [
      "\u001b[1;36m  Cell \u001b[1;32mIn[9], line 1\u001b[1;36m\u001b[0m\n\u001b[1;33m    t(0) = 30  #tuples are immutable-  can not be altered\u001b[0m\n\u001b[1;37m    ^\u001b[0m\n\u001b[1;31mSyntaxError\u001b[0m\u001b[1;31m:\u001b[0m cannot assign to function call here. Maybe you meant '==' instead of '='?\n"
     ]
    }
   ],
   "source": [
    "t(0) = 30  #tuples are immutable-  can not be altered"
   ]
  },
  {
   "cell_type": "code",
   "execution_count": 10,
   "id": "a0ab872d-383c-4c40-8f32-f237a6ed645d",
   "metadata": {},
   "outputs": [
    {
     "name": "stdout",
     "output_type": "stream",
     "text": [
      "(1, 2, 3, 4, 5, 6)\n"
     ]
    }
   ],
   "source": [
    "t1 = (1, 2, 3)\n",
    "t2 = (4, 5, 6)\n",
    "\n",
    "t = t1 + t2 # concatenation\n",
    "\n",
    "print(t) "
   ]
  },
  {
   "cell_type": "code",
   "execution_count": null,
   "id": "adb59734-b95e-422a-90d6-453c2927c8e1",
   "metadata": {},
   "outputs": [],
   "source": [
    "#SET - an unordered collection of unique items\n",
    "\n",
    "s = {50, 20, 10, 30, 40, 30, 50}\n",
    "\n",
    "print(s)"
   ]
  },
  {
   "cell_type": "code",
   "execution_count": null,
   "id": "cb84736c-2ece-461e-b5bf-ed02302ce5bd",
   "metadata": {},
   "outputs": [],
   "source": [
    "s = {50, 20, 10, 30, 40, 30, 50}\n",
    "\n",
    "s[3]"
   ]
  },
  {
   "cell_type": "code",
   "execution_count": 11,
   "id": "daba22ce-478b-493a-a853-07d6da66a16a",
   "metadata": {},
   "outputs": [
    {
     "data": {
      "text/plain": [
       "{'Key': 'value', 'word': 'meaning'}"
      ]
     },
     "execution_count": 11,
     "metadata": {},
     "output_type": "execute_result"
    }
   ],
   "source": [
    "# DICTIONARY - ordered collection of key:value\n",
    "\n",
    "{'Key':'value', 'word':'meaning'}"
   ]
  },
  {
   "cell_type": "code",
   "execution_count": 12,
   "id": "c2d7960b-617e-4871-a3db-90fd806231c0",
   "metadata": {},
   "outputs": [
    {
     "data": {
      "text/plain": [
       "'d'"
      ]
     },
     "execution_count": 12,
     "metadata": {},
     "output_type": "execute_result"
    }
   ],
   "source": [
    "s = 'Hello World!'\n",
    "\n",
    "s[-2]"
   ]
  },
  {
   "cell_type": "code",
   "execution_count": 13,
   "id": "d339be1b-f419-4187-99a1-1a0a25cdc7a9",
   "metadata": {},
   "outputs": [
    {
     "name": "stdout",
     "output_type": "stream",
     "text": [
      "!\n",
      "!\n"
     ]
    }
   ],
   "source": [
    "print(s[len(s)-1])  # negative indexing\n",
    "\n",
    "# or\n",
    "\n",
    "print(s[-1])"
   ]
  },
  {
   "cell_type": "code",
   "execution_count": 14,
   "id": "4e988087-bd6e-44ca-a244-da6726ae592e",
   "metadata": {},
   "outputs": [
    {
     "data": {
      "text/plain": [
       "10"
      ]
     },
     "execution_count": 14,
     "metadata": {},
     "output_type": "execute_result"
    }
   ],
   "source": [
    "# Type conversion - converting a data type to another data type\n",
    "\n",
    "# float to int\n",
    "\n",
    "int(10.3)"
   ]
  },
  {
   "cell_type": "code",
   "execution_count": 15,
   "id": "67ce0777-4e52-46f6-afae-cb9e892a6e41",
   "metadata": {},
   "outputs": [
    {
     "data": {
      "text/plain": [
       "5.0"
      ]
     },
     "execution_count": 15,
     "metadata": {},
     "output_type": "execute_result"
    }
   ],
   "source": [
    "# int to float\n",
    "\n",
    "float(5)"
   ]
  },
  {
   "cell_type": "code",
   "execution_count": 16,
   "id": "07fb00dd-409b-4549-b474-efa5f84fc953",
   "metadata": {},
   "outputs": [
    {
     "data": {
      "text/plain": [
       "2.5"
      ]
     },
     "execution_count": 16,
     "metadata": {},
     "output_type": "execute_result"
    }
   ],
   "source": [
    "# strig to float\n",
    "\n",
    "float('2.5')"
   ]
  },
  {
   "cell_type": "code",
   "execution_count": 17,
   "id": "2685948b-d13f-464a-9470-5a6a8491bd2a",
   "metadata": {},
   "outputs": [
    {
     "data": {
      "text/plain": [
       "'23'"
      ]
     },
     "execution_count": 17,
     "metadata": {},
     "output_type": "execute_result"
    }
   ],
   "source": [
    "# int to string\n",
    "\n",
    "str(23)"
   ]
  },
  {
   "cell_type": "code",
   "execution_count": 18,
   "id": "be50e5ef-d6ed-4b2f-be9e-d9fa22ab8eea",
   "metadata": {},
   "outputs": [
    {
     "data": {
      "text/plain": [
       "{1, 2, 3}"
      ]
     },
     "execution_count": 18,
     "metadata": {},
     "output_type": "execute_result"
    }
   ],
   "source": [
    "# list to set\n",
    "\n",
    "set([1,2,3])"
   ]
  },
  {
   "cell_type": "code",
   "execution_count": 19,
   "id": "39635ebf-f529-4e3e-9108-867f60ddd242",
   "metadata": {},
   "outputs": [
    {
     "data": {
      "text/plain": [
       "(5, 6, 7)"
      ]
     },
     "execution_count": 19,
     "metadata": {},
     "output_type": "execute_result"
    }
   ],
   "source": [
    "# dict to tuple\n",
    "\n",
    "tuple({5:'a',6:'b',7:'c'})"
   ]
  },
  {
   "cell_type": "code",
   "execution_count": 20,
   "id": "573ce3f4-30ef-4b35-a544-935a3311d766",
   "metadata": {},
   "outputs": [
    {
     "data": {
      "text/plain": [
       "['h', 'e', 'l', 'l', 'o']"
      ]
     },
     "execution_count": 20,
     "metadata": {},
     "output_type": "execute_result"
    }
   ],
   "source": [
    "# string to list\n",
    "\n",
    "list('hello')"
   ]
  },
  {
   "cell_type": "code",
   "execution_count": 21,
   "id": "a5983466-0eb9-4fc9-a688-ee97aadaf0cb",
   "metadata": {},
   "outputs": [
    {
     "data": {
      "text/plain": [
       "{1: 2, 3: 4}"
      ]
     },
     "execution_count": 21,
     "metadata": {},
     "output_type": "execute_result"
    }
   ],
   "source": [
    "# list of lists to dict\n",
    "\n",
    "dict([[1,2],[3,4]])"
   ]
  },
  {
   "cell_type": "code",
   "execution_count": 22,
   "id": "5a829c82-13c6-4718-a974-d8351e94d3e1",
   "metadata": {},
   "outputs": [
    {
     "data": {
      "text/plain": [
       "{3: 26, 4: 44}"
      ]
     },
     "execution_count": 22,
     "metadata": {},
     "output_type": "execute_result"
    }
   ],
   "source": [
    "# tuple into dict\n",
    "\n",
    "dict([(3,26),(4,44)])"
   ]
  },
  {
   "cell_type": "code",
   "execution_count": 23,
   "id": "99ae634c-93f0-4244-8547-d8cf629d0468",
   "metadata": {},
   "outputs": [
    {
     "name": "stdout",
     "output_type": "stream",
     "text": [
      "Temparature is 45 degree celcius\n"
     ]
    }
   ],
   "source": [
    "# print formatting using Str.format() method\n",
    "\n",
    "Temp = 45\n",
    "\n",
    "print('Temparature is {} degree celcius'.format(Temp))"
   ]
  },
  {
   "cell_type": "code",
   "execution_count": 24,
   "id": "f55d3219-2527-4710-ac06-17a5fb214336",
   "metadata": {},
   "outputs": [
    {
     "name": "stdout",
     "output_type": "stream",
     "text": [
      "Latitude is 41 degree, 24 minutes and 12.5 seconds N\n"
     ]
    }
   ],
   "source": [
    "Degree = 41; Minutes = 24; Seconds = 12.5\n",
    "\n",
    "print('Latitude is {0} degree, {1} minutes and {2} seconds N'.format(Degree,Minutes,Seconds))"
   ]
  },
  {
   "cell_type": "code",
   "execution_count": 25,
   "id": "1cdb0f3d-a11c-4f47-9e4f-5f70f1cdd7ac",
   "metadata": {},
   "outputs": [
    {
     "name": "stdout",
     "output_type": "stream",
     "text": [
      "Latitude is 41 degree, 24 minutes and 12.5 seconds N\n"
     ]
    }
   ],
   "source": [
    "# Str.format() using keyword arguments\n",
    "\n",
    "print('Latitude is {Degree} degree, {Minutes} minutes and {Seconds} seconds N'.format(Degree = '41',Minutes = '24',Seconds = '12.5'))"
   ]
  },
  {
   "cell_type": "markdown",
   "id": "9e29d552-a47b-4158-8a40-0fe488bb2741",
   "metadata": {},
   "source": [
    "PYTHON INPUT"
   ]
  },
  {
   "cell_type": "code",
   "execution_count": 32,
   "id": "2606aec2-ad49-4b62-856c-06152aed43bc",
   "metadata": {},
   "outputs": [
    {
     "name": "stdin",
     "output_type": "stream",
     "text": [
      "Enter a number:  20\n"
     ]
    }
   ],
   "source": [
    "num = int(input('Enter a number: '))"
   ]
  },
  {
   "cell_type": "code",
   "execution_count": 33,
   "id": "6574a75a-b8d5-4b23-877f-265bcd1fd7df",
   "metadata": {},
   "outputs": [
    {
     "name": "stdout",
     "output_type": "stream",
     "text": [
      "20\n"
     ]
    }
   ],
   "source": [
    "print(num)"
   ]
  },
  {
   "cell_type": "code",
   "execution_count": 34,
   "id": "391f6572-d702-4268-9e33-69b8e46c3f03",
   "metadata": {},
   "outputs": [
    {
     "data": {
      "text/plain": [
       "int"
      ]
     },
     "execution_count": 34,
     "metadata": {},
     "output_type": "execute_result"
    }
   ],
   "source": [
    "type(num)"
   ]
  },
  {
   "cell_type": "code",
   "execution_count": 37,
   "id": "77881f10-04ee-456a-bc86-e74b3cde4784",
   "metadata": {},
   "outputs": [
    {
     "data": {
      "text/plain": [
       "'20'"
      ]
     },
     "execution_count": 37,
     "metadata": {},
     "output_type": "execute_result"
    }
   ],
   "source": [
    "num = str(num)\n",
    "num"
   ]
  },
  {
   "cell_type": "code",
   "execution_count": 38,
   "id": "f5dd6aef-4fd2-4046-a11b-eb4b5f7bb784",
   "metadata": {},
   "outputs": [
    {
     "data": {
      "text/plain": [
       "str"
      ]
     },
     "execution_count": 38,
     "metadata": {},
     "output_type": "execute_result"
    }
   ],
   "source": [
    "type(num)"
   ]
  },
  {
   "cell_type": "markdown",
   "id": "3c14a595-c457-4bda-b50d-ec76678d0ba9",
   "metadata": {},
   "source": [
    "OPERATORS IN PYTHON"
   ]
  },
  {
   "cell_type": "code",
   "execution_count": null,
   "id": "56f2315a-7d0f-48c9-aa17-3c6b9b252646",
   "metadata": {},
   "outputs": [],
   "source": [
    "# arithmetic operators\n",
    "x,y = 5,2\n",
    "\n",
    "#x + y\n",
    "#x - y\n",
    "#x * y\n",
    "#x / y\n",
    "# x % y\n",
    "x // y\n",
    "# x ** y"
   ]
  },
  {
   "cell_type": "code",
   "execution_count": null,
   "id": "46ec9278-48e3-4cf4-a9dd-30ec82b66880",
   "metadata": {},
   "outputs": [],
   "source": [
    "# comparison operators\n",
    "a,b = 10,5\n",
    "\n",
    "a > b\n",
    "a < b\n",
    "a == b\n",
    "a != b\n",
    "a >= b\n",
    "a <= b"
   ]
  },
  {
   "cell_type": "code",
   "execution_count": null,
   "id": "020b8c80-e483-4aed-9443-b99d1eb58ca5",
   "metadata": {},
   "outputs": [],
   "source": [
    "# logical operators\n",
    "A = True\n",
    "B =  False\n",
    "\n",
    "A and B\n",
    "A or B\n",
    "not B"
   ]
  },
  {
   "cell_type": "markdown",
   "id": "633b7a79-d398-4a93-b4e0-987ffc65df7d",
   "metadata": {},
   "source": [
    "CONVERTING A NUMERIC VALUE TO BINARY OR BCD OR 8421 CODE"
   ]
  },
  {
   "cell_type": "code",
   "execution_count": null,
   "id": "b0e44dbd-affe-48b3-8180-fb578126b884",
   "metadata": {},
   "outputs": [],
   "source": [
    "# Bitwise operators\n",
    "x = 10\n",
    "y = 4\n",
    "\n",
    "x & y\n",
    "x | y\n",
    "~x # ~x = -x - 1\n",
    "x ^ y\n",
    "x >> 1\n",
    "x << 1"
   ]
  },
  {
   "cell_type": "code",
   "execution_count": 40,
   "id": "df9c067a-e57e-4daf-8012-ba4df1534dc4",
   "metadata": {},
   "outputs": [
    {
     "data": {
      "text/plain": [
       "True"
      ]
     },
     "execution_count": 40,
     "metadata": {},
     "output_type": "execute_result"
    }
   ],
   "source": [
    "# special operators\n",
    "x1 = 'hello'\n",
    "y1 = 'hello'\n",
    "\n",
    "x1 is y1 # output is boolean"
   ]
  },
  {
   "cell_type": "code",
   "execution_count": 41,
   "id": "fb386956-7cd0-4089-a60e-24b5c45c8fbe",
   "metadata": {},
   "outputs": [
    {
     "data": {
      "text/plain": [
       "False"
      ]
     },
     "execution_count": 41,
     "metadata": {},
     "output_type": "execute_result"
    }
   ],
   "source": [
    "x2 = 4\n",
    "y2 = 4\n",
    "\n",
    "x2 is not y2"
   ]
  },
  {
   "cell_type": "code",
   "execution_count": 42,
   "id": "07d91afe-d975-4a95-bf31-f33df0edd6b0",
   "metadata": {},
   "outputs": [
    {
     "data": {
      "text/plain": [
       "False"
      ]
     },
     "execution_count": 42,
     "metadata": {},
     "output_type": "execute_result"
    }
   ],
   "source": [
    "x3 = [1,2,3]\n",
    "y3 = [1,2,3]\n",
    "\n",
    "x3 is y3  #x3 and y3 are data structures hence are allocated memory separately thus returns false"
   ]
  },
  {
   "cell_type": "code",
   "execution_count": 43,
   "id": "99c1558c-02c6-4d0e-a68a-411313b4f57a",
   "metadata": {},
   "outputs": [
    {
     "data": {
      "text/plain": [
       "True"
      ]
     },
     "execution_count": 43,
     "metadata": {},
     "output_type": "execute_result"
    }
   ],
   "source": [
    "# membership operator\n",
    "\n",
    "x = 'Perminus'\n",
    "\n",
    "'r' in x"
   ]
  },
  {
   "cell_type": "code",
   "execution_count": 44,
   "id": "df119309-49d0-4235-888e-0f87ac24b2a9",
   "metadata": {},
   "outputs": [
    {
     "data": {
      "text/plain": [
       "False"
      ]
     },
     "execution_count": 44,
     "metadata": {},
     "output_type": "execute_result"
    }
   ],
   "source": [
    "'q' in x"
   ]
  },
  {
   "cell_type": "code",
   "execution_count": 45,
   "id": "ef7212af-d1c8-45cd-821b-52da97a5f82a",
   "metadata": {},
   "outputs": [
    {
     "data": {
      "text/plain": [
       "True"
      ]
     },
     "execution_count": 45,
     "metadata": {},
     "output_type": "execute_result"
    }
   ],
   "source": [
    "'k' not in x"
   ]
  },
  {
   "cell_type": "markdown",
   "id": "0e9ad240-8362-4946-9572-7e0f6bf6c0dc",
   "metadata": {},
   "source": [
    "**if STATEMENTS**"
   ]
  },
  {
   "cell_type": "code",
   "execution_count": 46,
   "id": "b4f11e30-4b5b-4c6c-8ab3-9bfeba0e3ae0",
   "metadata": {},
   "outputs": [
    {
     "name": "stdout",
     "output_type": "stream",
     "text": [
      "79 You have passed the Examination\n"
     ]
    }
   ],
   "source": [
    "Marks = 79\n",
    "\n",
    "if Marks>=35:\n",
    "    print(Marks, 'You have passed the Examination')"
   ]
  },
  {
   "cell_type": "code",
   "execution_count": 47,
   "id": "b0e58572-f8fb-454f-865f-2764b0330e9c",
   "metadata": {},
   "outputs": [
    {
     "name": "stdout",
     "output_type": "stream",
     "text": [
      "You have failed the examination, better luck next time\n"
     ]
    }
   ],
   "source": [
    "Marks = 34\n",
    "\n",
    "if Marks >= 35:\n",
    "    print('You have passed the examination, congratulations')\n",
    "else:\n",
    "    print('You have failed the examination, better luck next time')"
   ]
  },
  {
   "cell_type": "code",
   "execution_count": 48,
   "id": "e5bfe1b9-d67a-400b-b555-e2fe98ea6b38",
   "metadata": {},
   "outputs": [
    {
     "name": "stdout",
     "output_type": "stream",
     "text": [
      "You have passed the examination, congratulations\n"
     ]
    }
   ],
   "source": [
    "Marks = 38\n",
    "\n",
    "if Marks >= 35:\n",
    "    print('You have passed the examination, congratulations')\n",
    "elif Marks == 35:\n",
    "    print('You have just passed the examination')\n",
    "else:\n",
    "    print('You have failed the examination, better luck next time')"
   ]
  },
  {
   "cell_type": "code",
   "execution_count": 51,
   "id": "84b72c8f-7261-4340-a113-8655797ddf46",
   "metadata": {},
   "outputs": [
    {
     "name": "stdin",
     "output_type": "stream",
     "text": [
      "Enter your marks:  5\n"
     ]
    },
    {
     "name": "stdout",
     "output_type": "stream",
     "text": [
      "You have failed the test\n"
     ]
    }
   ],
   "source": [
    "Marks = int(input('Enter your marks: '))\n",
    "\n",
    "if Marks >= 35:\n",
    "    if Marks == 35:\n",
    "        print('You have just passed the test')\n",
    "    else:\n",
    "        print('You have passed the test')\n",
    "else:\n",
    "    print('You have failed the test')"
   ]
  },
  {
   "cell_type": "code",
   "execution_count": null,
   "id": "432bccfe-a940-4a4e-8d3e-2ae17ca64a67",
   "metadata": {},
   "outputs": [],
   "source": [
    "Marks = int(input('Enter your marks: '))\n",
    "\n",
    "if Marks >= 60 and Marks < 70:\n",
    "    print('Result =',Marks, 'You have passed the test with First class')\n",
    "elif Marks >= 35 and Marks <= 60:\n",
    "    print('Result =',Marks, 'You have passed test with Second class')\n",
    "elif Marks <= 35:\n",
    "    print('Results =',Marks, 'You have not passed the test')\n",
    "else:\n",
    "    print('Results =',Marks, 'You have passed the examination with distinction')"
   ]
  },
  {
   "cell_type": "markdown",
   "id": "eff0c4a4-0ed2-4a12-b1d7-1054d6d19613",
   "metadata": {},
   "source": [
    "**while LOOP**"
   ]
  },
  {
   "cell_type": "code",
   "execution_count": 52,
   "id": "11e209a9-9b0f-4880-b1cc-e95d783dd7d3",
   "metadata": {},
   "outputs": [
    {
     "name": "stdout",
     "output_type": "stream",
     "text": [
      "5 * 1 = 5\n",
      "5 * 2 = 10\n",
      "5 * 3 = 15\n",
      "5 * 4 = 20\n",
      "5 * 5 = 25\n",
      "5 * 6 = 30\n",
      "5 * 7 = 35\n",
      "5 * 8 = 40\n",
      "5 * 9 = 45\n",
      "5 * 10 = 50\n"
     ]
    }
   ],
   "source": [
    "# program to generate a multiplication table of 5 using a while loop\n",
    "\n",
    "Mul = 10\n",
    "Mulp = 5\n",
    "i = 1\n",
    "\n",
    "while i <= Mul:\n",
    "\n",
    "    Product = Mulp * i  # creating multiples\n",
    "    \n",
    "    print('{} * {} = {}'.format(Mulp,i,Product))\n",
    "    \n",
    "    i += 1   # update counter\n",
    "\n",
    "# in the case of an infinite loop, use the Kernel interrupt"
   ]
  },
  {
   "cell_type": "code",
   "execution_count": 56,
   "id": "e9025ca5-f01e-493e-8367-0def9c930c30",
   "metadata": {
    "scrolled": true
   },
   "outputs": [
    {
     "name": "stdout",
     "output_type": "stream",
     "text": [
      "11 * 1 = 11\n",
      "11 * 2 = 22\n",
      "11 * 3 = 33\n",
      "11 * 4 = 44\n",
      "11 * 5 = 55\n",
      "11 * 6 = 66\n",
      "11 * 7 = 77\n",
      "11 * 8 = 88\n",
      "11 * 9 = 99\n",
      "11 * 10 = 110\n",
      "\n",
      "Multiplication of tables completed until 11 * 10\n"
     ]
    }
   ],
   "source": [
    "# program to generate a multiplication table of 5 using a while loop\n",
    "\n",
    "Mul = 10\n",
    "Mulp = 11\n",
    "i = 0\n",
    "\n",
    "lst = [1,2,3,4,5,6,7,8,9,10]\n",
    "\n",
    "while i < Mul:\n",
    "\n",
    "    Product = Mulp * lst[i]\n",
    "    print('{0} * {1} = {2}'.format(Mulp,lst[i],Product))\n",
    "    i += 1 # update counter\n",
    "\n",
    "else:\n",
    "\n",
    "    print('\\nMultiplication of tables completed until {} * {}'.format(Mulp,i))"
   ]
  },
  {
   "cell_type": "code",
   "execution_count": 55,
   "id": "b4b46994-bfb2-4528-9c6a-0b93460debfe",
   "metadata": {},
   "outputs": [
    {
     "name": "stdin",
     "output_type": "stream",
     "text": [
      "Enter a limit number:  7\n"
     ]
    },
    {
     "name": "stdout",
     "output_type": "stream",
     "text": [
      "\n",
      "The sum of 7 natural numbers is 28\n"
     ]
    }
   ],
   "source": [
    "# program to obtain sum of n natural numbers\n",
    "\n",
    "Sum = 0\n",
    "i = 1\n",
    "n = int(input('Enter a limit number: '))\n",
    "\n",
    "while i <= n:\n",
    "\n",
    "    Sum += i\n",
    "    \n",
    "    i += 1\n",
    "\n",
    "else:\n",
    "\n",
    "    print('\\nThe sum of {} natural numbers is {}'.format(n,Sum))"
   ]
  },
  {
   "cell_type": "markdown",
   "id": "0b6ae9bc-b8c8-493a-a3c9-7b45b99c7f9f",
   "metadata": {},
   "source": [
    "**for LOOP**"
   ]
  },
  {
   "cell_type": "code",
   "execution_count": 57,
   "id": "b7830dc5-35ec-466d-a1a6-aff0465d952a",
   "metadata": {},
   "outputs": [
    {
     "name": "stdout",
     "output_type": "stream",
     "text": [
      "S1\n",
      "S2\n",
      "S3\n",
      "S4\n",
      "S5\n"
     ]
    }
   ],
   "source": [
    "# program to print values in a sequence\n",
    "\n",
    "for val in 'S1','S2','S3','S4','S5':\n",
    "    print(val)"
   ]
  },
  {
   "cell_type": "code",
   "execution_count": 58,
   "id": "ad55487c-76e0-4d69-b457-1b99633354fc",
   "metadata": {},
   "outputs": [
    {
     "name": "stdout",
     "output_type": "stream",
     "text": [
      "The sum is 15\n"
     ]
    }
   ],
   "source": [
    "# program to obtain the sum of values in a list\n",
    "\n",
    "sum = 0\n",
    "\n",
    "lst = [1,2,3,4,5]\n",
    "\n",
    "for val in lst:\n",
    "    \n",
    "    sum += val\n",
    "    \n",
    "print('The sum is', sum)"
   ]
  },
  {
   "cell_type": "markdown",
   "id": "d06709ee-b78f-4c22-8c55-84757fd170fb",
   "metadata": {},
   "source": [
    "RANGE FUNCTION IN A FOR LOOP"
   ]
  },
  {
   "cell_type": "code",
   "execution_count": 59,
   "id": "0d51c037-049c-4024-aedc-e818507a8359",
   "metadata": {},
   "outputs": [
    {
     "data": {
      "text/plain": [
       "range(0, 10)"
      ]
     },
     "execution_count": 59,
     "metadata": {},
     "output_type": "execute_result"
    }
   ],
   "source": [
    "range(10)"
   ]
  },
  {
   "cell_type": "code",
   "execution_count": 60,
   "id": "1076d80d-02e0-48e3-ba07-aec587fb0ba1",
   "metadata": {},
   "outputs": [
    {
     "data": {
      "text/plain": [
       "range(0, 10)"
      ]
     },
     "execution_count": 60,
     "metadata": {},
     "output_type": "execute_result"
    }
   ],
   "source": [
    "range(0, 10)"
   ]
  },
  {
   "cell_type": "code",
   "execution_count": 61,
   "id": "a69e9214-6a41-45da-89d7-82be98b8d660",
   "metadata": {},
   "outputs": [
    {
     "name": "stdout",
     "output_type": "stream",
     "text": [
      "[1, 3, 5, 7, 9]\n"
     ]
    }
   ],
   "source": [
    "print(list(range(1, 10, 2)))"
   ]
  },
  {
   "cell_type": "code",
   "execution_count": 62,
   "id": "51d168cc-8960-4f05-92a9-42ddf485f6b6",
   "metadata": {},
   "outputs": [
    {
     "name": "stdout",
     "output_type": "stream",
     "text": [
      "5 * 1 = 5\n",
      "5 * 2 = 10\n",
      "5 * 3 = 15\n",
      "5 * 4 = 20\n",
      "5 * 5 = 25\n",
      "5 * 6 = 30\n",
      "5 * 7 = 35\n",
      "5 * 8 = 40\n",
      "5 * 9 = 45\n",
      "5 * 10 = 50\n"
     ]
    }
   ],
   "source": [
    "# using range function in a for loop\n",
    "# multiplication table example\n",
    "\n",
    "Mulp = 5\n",
    "\n",
    "for val in range(1,11):\n",
    "\n",
    "    Product = Mulp*val\n",
    "    \n",
    "    print('{} * {} = {}'.format(Mulp,val,Product))"
   ]
  },
  {
   "cell_type": "code",
   "execution_count": 64,
   "id": "3f4bcbdb-2879-482c-b1eb-bb5e7c56c56b",
   "metadata": {},
   "outputs": [
    {
     "name": "stdout",
     "output_type": "stream",
     "text": [
      "The sum of even numbers is  20\n",
      "The sum of odd numbers is  25\n"
     ]
    }
   ],
   "source": [
    "# program to obtain the sum of even numbers using a for loop and range function\n",
    "\n",
    "sum = 0\n",
    "summation = 0\n",
    "\n",
    "for val in range(0, 10, 2):\n",
    "    \n",
    "    sum += val\n",
    "\n",
    "print('The sum of even numbers is ', sum)\n",
    "\n",
    "for values in range(1, 10, 2):  # sum of odd numbers\n",
    "\n",
    "    summation += values\n",
    "\n",
    "print('The sum of odd numbers is ', summation)"
   ]
  },
  {
   "cell_type": "code",
   "execution_count": 65,
   "id": "9be3df19-0ffd-4b8e-be3a-dd4e402f60eb",
   "metadata": {},
   "outputs": [
    {
     "data": {
      "text/plain": [
       "7"
      ]
     },
     "execution_count": 65,
     "metadata": {},
     "output_type": "execute_result"
    }
   ],
   "source": [
    "week = ['Monday', 'Tuesday', 'Wednesday', 'Thursday', 'Friday', 'Saturday', 'Sunday']\n",
    "\n",
    "len(week)"
   ]
  },
  {
   "cell_type": "code",
   "execution_count": 66,
   "id": "e50555b1-3564-4eb7-8cd9-571184f9471c",
   "metadata": {},
   "outputs": [
    {
     "data": {
      "text/plain": [
       "range(0, 7)"
      ]
     },
     "execution_count": 66,
     "metadata": {},
     "output_type": "execute_result"
    }
   ],
   "source": [
    "range(len(week))"
   ]
  },
  {
   "cell_type": "code",
   "execution_count": 67,
   "id": "b7d43fc1-5180-49d1-82ed-c6e1cea76823",
   "metadata": {},
   "outputs": [
    {
     "name": "stdout",
     "output_type": "stream",
     "text": [
      "Monday\n",
      "Tuesday\n",
      "Wednesday\n",
      "Thursday\n",
      "Friday\n",
      "Saturday\n",
      "Sunday\n"
     ]
    }
   ],
   "source": [
    "# iterating values in a list using range function\n",
    "\n",
    "week = ['Monday', 'Tuesday', 'Wednesday', 'Thursday', 'Friday', 'Saturday', 'Sunday']\n",
    "\n",
    "for i in range(len(week)):\n",
    "\n",
    "    print(week[i])"
   ]
  },
  {
   "cell_type": "code",
   "execution_count": 68,
   "id": "33fe83f7-6bf3-4488-ab19-e731e88ecba4",
   "metadata": {},
   "outputs": [
    {
     "name": "stdout",
     "output_type": "stream",
     "text": [
      "Monday\n",
      "Wednesday\n",
      "Friday\n",
      "Sunday\n"
     ]
    }
   ],
   "source": [
    "for i in range(0, 7, 2):\n",
    "\n",
    "    print(week[i])"
   ]
  },
  {
   "cell_type": "code",
   "execution_count": 69,
   "id": "182ffc81-004a-44f3-9e9b-7d4d5029a468",
   "metadata": {},
   "outputs": [
    {
     "name": "stdout",
     "output_type": "stream",
     "text": [
      "Day 1 of the week is Monday and is on a weekday.\n",
      "Day 2 of the week is Tuesday and is on a weekday.\n",
      "Day 3 of the week is Wednesday and is on a weekday.\n",
      "Day 4 of the week is Thursday and is on a weekday.\n",
      "Day 5 of the week is Friday and is on a weekday.\n",
      "Day 6 of the week is Saturday and is on a weekend.\n",
      "Day 7 of the week is Sunday and is on a weekend.\n"
     ]
    }
   ],
   "source": [
    "# iterating values in a list using range function\n",
    "# where Mon to Fri are weekdays and the rest weekends\n",
    "\n",
    "week = ['Monday', 'Tuesday', 'Wednesday', 'Thursday', 'Friday', 'Saturday', 'Sunday']\n",
    "\n",
    "for i in range(len(week)):\n",
    "\n",
    "    if i < 5:\n",
    "\n",
    "        print('Day {} of the week is {} and is on a weekday.'.format(i+1,week[i]))\n",
    "    else:\n",
    "\n",
    "        print('Day {} of the week is {} and is on a weekend.'.format(i+1,week[i]))"
   ]
  },
  {
   "cell_type": "code",
   "execution_count": 70,
   "id": "fcc71f56-d9d0-4169-b306-bcc54cfd2b36",
   "metadata": {},
   "outputs": [
    {
     "name": "stdout",
     "output_type": "stream",
     "text": [
      "Hello\n",
      "Hi\n",
      "Good morning\n",
      "\n",
      "No more items left\n"
     ]
    }
   ],
   "source": [
    "# for loop with else\n",
    "\n",
    "greet = ('Hello', 'Hi', 'Good morning')\n",
    "\n",
    "for i in greet:\n",
    "\n",
    "    print(i)\n",
    "\n",
    "else:\n",
    "\n",
    "    print('\\nNo more items left')"
   ]
  },
  {
   "cell_type": "code",
   "execution_count": 75,
   "id": "7fa06f47-767d-4d29-a0c0-59caea735a50",
   "metadata": {},
   "outputs": [
    {
     "name": "stdout",
     "output_type": "stream",
     "text": [
      "Player found! Highest individual score of Deng is 200\n",
      "Player found! Highest individual score of Veona is 213\n",
      "Player found! Highest individual score of Benadatah is 264\n",
      "\n",
      "3 players found with score greater than 200\n"
     ]
    }
   ],
   "source": [
    " # program to fetch player names and their score from a dict if the score is > 200.\n",
    "\n",
    "score = {'Deng': 200, 'Lynne': 199, 'Veona': 213, 'Benadatah': 264, 'Eliud': 109}\n",
    "\n",
    "i = 0\n",
    "\n",
    "for player in score:\n",
    "\n",
    "    if score[player] >= 200:\n",
    "\n",
    "        print('Player found! Highest individual score of {} is {}'.format(player,score[player]))\n",
    "        \n",
    "        i+=1\n",
    "    \n",
    "else:\n",
    "    if i>0:\n",
    "\n",
    "        if i==1:\n",
    "            print('\\n{} player found with score greater than 200'.format(i))\n",
    "        else:\n",
    "            print('\\n{} players found with score greater than 200'.format(i))\n",
    "\n",
    "    else:\n",
    "\n",
    "        print('\\nNo player recored found with score greater than 200')"
   ]
  },
  {
   "cell_type": "markdown",
   "id": "dfc08ac6-ec0d-454a-a8e4-3d38e56e0162",
   "metadata": {},
   "source": [
    "**BREAK AND CONTINUE STATEMENTS**"
   ]
  },
  {
   "cell_type": "code",
   "execution_count": 79,
   "id": "99c47fb6-6860-475a-ab88-aa08fdcb100a",
   "metadata": {},
   "outputs": [
    {
     "name": "stdin",
     "output_type": "stream",
     "text": [
      "Enter the player name:  ole\n"
     ]
    },
    {
     "name": "stdout",
     "output_type": "stream",
     "text": [
      "Player not found!\n",
      "Player not found!\n",
      "Player not found!\n",
      "Player not found!\n",
      "Player not found!\n",
      "Player not found!\n",
      "\n",
      "No entry with that name ole was found or you may change the case and try again\n"
     ]
    }
   ],
   "source": [
    "# program to display the team for which a player plays for in EPL\n",
    "\n",
    "player_name = input('Enter the player name: ')\n",
    "\n",
    "Team = {'Haaland': \"Man City\", 'Garnacho': \"Man United\", 'Saka': \"Ars\", 'Rashford': \"Villa\", 'Delap': \"Ipswich\", 'Son': \"Spurs\"}\n",
    "\n",
    "for player in Team:\n",
    "\n",
    "    if player == player_name:\n",
    "\n",
    "        print('\\nPlayer found! {} plays for {} in EPL'.format(player,Team[player]))\n",
    "\n",
    "        break\n",
    "\n",
    "\n",
    "    else:\n",
    "\n",
    "        print('Player not found!')     \n",
    "        \n",
    "else:\n",
    "\n",
    "    print('\\nNo entry with that name {} was found or you may change the case and try again'.format(player_name))"
   ]
  },
  {
   "cell_type": "code",
   "execution_count": 80,
   "id": "909da12b-dddd-4d8e-a659-ce9515d5b6ac",
   "metadata": {},
   "outputs": [
    {
     "name": "stdout",
     "output_type": "stream",
     "text": [
      "Age of Lynne is 20\n",
      "Age of Veona is 29\n"
     ]
    }
   ],
   "source": [
    "# program to fetch player names with age less than or equal to 32.\n",
    "\n",
    "Age = {'Deng': 43, 'Lynne': 20, 'Kawii': 33, 'Veona': 29}\n",
    "\n",
    "for player in Age:\n",
    "\n",
    "    if Age[player] >= 32:\n",
    "\n",
    "        continue\n",
    "\n",
    "    print('Age of {} is {}'.format(player,Age[player]))"
   ]
  },
  {
   "cell_type": "markdown",
   "id": "4f9c95ed-e319-49f5-8c53-feb84d505f9a",
   "metadata": {},
   "source": [
    "**LISTS**"
   ]
  },
  {
   "cell_type": "code",
   "execution_count": 81,
   "id": "b48c6331-7c96-4d14-a0fe-29be030efd16",
   "metadata": {},
   "outputs": [
    {
     "name": "stdout",
     "output_type": "stream",
     "text": [
      "[]\n",
      "['Nairobi', 'Nakuru', 'Kisumu', 'Mombasa']\n",
      "[10, 20, 56, 45, 98, 76]\n",
      "[1, 'English', 2.25, (3+1.8j)]\n",
      "[[100, 105], [105, 110]]\n"
     ]
    }
   ],
   "source": [
    "empty_lst = []   # creation of an empty list\n",
    "print(empty_lst)\n",
    "\n",
    "city = ['Nairobi', 'Nakuru', 'Kisumu', 'Mombasa']   # list of strings\n",
    "print(city)\n",
    "\n",
    "Marks = [10, 20, 56, 45, 98, 76]    # list of integers\n",
    "print(Marks)\n",
    "\n",
    "Mixed = [1, 'English', 2.25, 3+1.8j]  # mixed data types\n",
    "print(Mixed)\n",
    "\n",
    "Share_price = [[100, 105], [105, 110]]   # list of lists/nested list\n",
    "print(Share_price)"
   ]
  },
  {
   "cell_type": "code",
   "execution_count": 82,
   "id": "189dd765-529c-4f90-85bb-07bc23665ce8",
   "metadata": {},
   "outputs": [
    {
     "name": "stdout",
     "output_type": "stream",
     "text": [
      "[10, 20, 30, 40, 50, 60, 70, 80, 90]\n",
      "[10, 20, 30, 40, 50]\n",
      "[10, 20, 30, 40, 50, 60]\n",
      "[10, 30, 50, 70, 90]\n",
      "[90, 70, 50, 30, 10]\n",
      "[90, 70, 50]\n",
      "[30, 10]\n"
     ]
    }
   ],
   "source": [
    "# slicing of a list with colon operator\n",
    "\n",
    "numbers = [10, 20, 30, 40, 50, 60, 70, 80, 90]\n",
    "\n",
    "print(numbers[:])\n",
    "\n",
    "print(numbers[0:5])\n",
    "\n",
    "print(numbers[0:-3])\n",
    "\n",
    "print(numbers[::2])  # selecting values with step 2\n",
    "\n",
    "print(numbers[::-2])  # selecting values with a step of -2\n",
    "\n",
    "print(numbers[:2:-2])  # selecting values from -1 index to 2nd index with a step 2 in negative\n",
    "\n",
    "print(numbers[2::-2])  # selecting values from 2nd index with a step 2 in negative"
   ]
  },
  {
   "cell_type": "code",
   "execution_count": 83,
   "id": "ef670f38-32ff-492b-8c97-daa36c436c93",
   "metadata": {},
   "outputs": [
    {
     "name": "stdout",
     "output_type": "stream",
     "text": [
      "(100, 105)\n",
      "(110, 125)\n"
     ]
    }
   ],
   "source": [
    "#accessing elements in a nested list\n",
    "\n",
    "Share_price = [(100, 105), [105, 110], (110, 125)]   # list of lists/nested list\n",
    "\n",
    "print(Share_price[0])\n",
    "\n",
    "print(Share_price[-1])"
   ]
  },
  {
   "cell_type": "code",
   "execution_count": 85,
   "id": "2c61a48b-9c53-455a-9e54-5c15c2bda591",
   "metadata": {},
   "outputs": [
    {
     "name": "stdout",
     "output_type": "stream",
     "text": [
      "110\n",
      "125\n",
      "[(100, 105), [105, 155], (110, 125)]\n"
     ]
    }
   ],
   "source": [
    "Share_price = [(100, 105), [105, 110], (110, 125)]   # list of lists/nested list\n",
    "\n",
    "share_op_price = Share_price[2][0]  # accesses the zero index value in the 2nd index list\n",
    "print(share_op_price)\n",
    "\n",
    "share_cl_price = Share_price[2][1]  # accesses the 1st index value in the 2nd index list\n",
    "print(share_cl_price)\n",
    "\n",
    "Share_price[1][1] = 155  # changing a value of a list within a list\n",
    "print(Share_price)\n",
    "\n",
    "# NB: We cannot change a value of a tuple since they are immutable"
   ]
  },
  {
   "cell_type": "code",
   "execution_count": 86,
   "id": "1b7f7a61-2bd0-4890-b637-04368a500986",
   "metadata": {},
   "outputs": [
    {
     "name": "stdout",
     "output_type": "stream",
     "text": [
      "[10, 20, 56, 45, 98, 76]\n",
      "[10, 20, 56, 98, 76]\n"
     ]
    }
   ],
   "source": [
    "# deleting values in a list\n",
    "print(Marks)\n",
    "\n",
    "del Marks[3]  # deleting a value in a list\n",
    "print(Marks)"
   ]
  },
  {
   "cell_type": "code",
   "execution_count": 87,
   "id": "dceb3059-00e4-4924-8308-a734c36498ba",
   "metadata": {},
   "outputs": [
    {
     "name": "stdout",
     "output_type": "stream",
     "text": [
      "[10, 20, 56, 98, 76]\n"
     ]
    },
    {
     "ename": "NameError",
     "evalue": "name 'Marks' is not defined",
     "output_type": "error",
     "traceback": [
      "\u001b[1;31m---------------------------------------------------------------------------\u001b[0m",
      "\u001b[1;31mNameError\u001b[0m                                 Traceback (most recent call last)",
      "Cell \u001b[1;32mIn[87], line 4\u001b[0m\n\u001b[0;32m      1\u001b[0m \u001b[38;5;28mprint\u001b[39m(Marks)\n\u001b[0;32m      3\u001b[0m \u001b[38;5;28;01mdel\u001b[39;00m Marks  \u001b[38;5;66;03m# deleting an entire list\u001b[39;00m\n\u001b[1;32m----> 4\u001b[0m \u001b[38;5;28mprint\u001b[39m(Marks)\n",
      "\u001b[1;31mNameError\u001b[0m: name 'Marks' is not defined"
     ]
    }
   ],
   "source": [
    "print(Marks)\n",
    "\n",
    "del Marks  # deleting an entire list\n",
    "print(Marks)"
   ]
  },
  {
   "cell_type": "markdown",
   "id": "cda30c64-3881-4f65-aa97-684d4c30afd8",
   "metadata": {},
   "source": [
    "LIST OPERATORS"
   ]
  },
  {
   "cell_type": "code",
   "execution_count": 88,
   "id": "e9ff444c-cf26-4971-92eb-62c149997c2f",
   "metadata": {},
   "outputs": [
    {
     "name": "stdout",
     "output_type": "stream",
     "text": [
      "[1, 2, 3, 4, 5, 6]\n"
     ]
    }
   ],
   "source": [
    "lst1 = [1, 2, 3]\n",
    "lst2 = [4, 5, 6]\n",
    "\n",
    "lst3 = lst1 + lst2    # concatenation of 2 lists\n",
    "\n",
    "print(lst3)"
   ]
  },
  {
   "cell_type": "code",
   "execution_count": 89,
   "id": "16153c85-3df8-4e22-93ac-383c5871cd7c",
   "metadata": {},
   "outputs": [
    {
     "name": "stdout",
     "output_type": "stream",
     "text": [
      "[1, 2, 3, 1, 2, 3]\n"
     ]
    }
   ],
   "source": [
    "lst = [1, 2, 3]*2  # repeat a list a number of times e.g. 2\n",
    "\n",
    "print(lst)"
   ]
  },
  {
   "cell_type": "code",
   "execution_count": 90,
   "id": "6fafaded-b90b-4d90-a655-c780e8e36099",
   "metadata": {},
   "outputs": [
    {
     "name": "stdout",
     "output_type": "stream",
     "text": [
      "['Nairobi', 'Nakuru', 'Kisumu', 'Mombasa']\n",
      "\n",
      " Nakuru is available\n",
      "Nyeri is not available\n"
     ]
    }
   ],
   "source": [
    "# usage of membership operators 'in' and 'not in'\n",
    "\n",
    "print(city)\n",
    "\n",
    "if 'Nakuru' in city:\n",
    "    print('\\n Nakuru is available')\n",
    "\n",
    "if 'Nyeri' not in city:\n",
    "    print('Nyeri is not available')"
   ]
  },
  {
   "cell_type": "markdown",
   "id": "2074b64d-3960-42b4-8233-f65aeefb48d8",
   "metadata": {},
   "source": [
    "BUILT-IN FUNCTIONS"
   ]
  },
  {
   "cell_type": "code",
   "execution_count": null,
   "id": "344c784f-346c-4cc0-9cca-1b4ef184928a",
   "metadata": {},
   "outputs": [],
   "source": [
    "Marks = [90,34,67,45,28,96,40,10]\n",
    "\n",
    "print('Length of list is: ', len(Marks))\n",
    "\n",
    "print('Max marks is: ', max(Marks))\n",
    "\n",
    "print('Min marks is: ', min(Marks))"
   ]
  },
  {
   "cell_type": "markdown",
   "id": "76310082-038a-4a54-9c47-a510113ad838",
   "metadata": {},
   "source": [
    "SORTING LISTS USING BUILT-IN FUNCTION"
   ]
  },
  {
   "cell_type": "code",
   "execution_count": 91,
   "id": "1d2e609b-dfc7-46ac-9fae-622e8342918b",
   "metadata": {},
   "outputs": [
    {
     "name": "stdout",
     "output_type": "stream",
     "text": [
      "Original list was:  [90, 34, 67, 45, 28, 96, 40, 10]\n",
      "\n",
      "Sorted list in ascending order:  [10, 28, 34, 40, 45, 67, 90, 96]\n",
      "\n",
      "Sorted list in descending order:  [96, 90, 67, 45, 40, 34, 28, 10]\n"
     ]
    }
   ],
   "source": [
    "#lst = ['C','E','B','D','F','A']\n",
    "lst = [90,34,67,45,28,96,40,10]\n",
    "\n",
    "sorted_lst = sorted(lst)\n",
    "\n",
    "sorted_list = sorted(lst, reverse=True)\n",
    "\n",
    "print('Original list was: ', lst)\n",
    "\n",
    "print('\\nSorted list in ascending order: ', sorted_lst)\n",
    "\n",
    "print('\\nSorted list in descending order: ', sorted_list)"
   ]
  },
  {
   "cell_type": "code",
   "execution_count": null,
   "id": "acbddeb8-5a40-4d3f-a340-582dbf8ed7ec",
   "metadata": {},
   "outputs": [],
   "source": [
    "# reverse sorting a list\n",
    "\n",
    "week = ['Mon','Tue','Wed','Thur','Fri','Sat','Sun']\n",
    "\n",
    "print('Reversed sorted list is: \\n\\n', sorted(week,reverse = True))\n",
    "\n",
    "# reverse sorts from Z-A or from +ve max to -ve min"
   ]
  },
  {
   "cell_type": "markdown",
   "id": "4bd278f8-c826-4962-9dc5-09f9aa40f334",
   "metadata": {},
   "source": [
    "LIST METHODS"
   ]
  },
  {
   "cell_type": "code",
   "execution_count": null,
   "id": "35eeb805-9197-4901-b76d-7d75c4ed5f52",
   "metadata": {},
   "outputs": [],
   "source": [
    "# list.append() - inserts a list at the end of a list including the []\n",
    "\n",
    "print(city)\n",
    "\n",
    "city.append('Nyeri')\n",
    "print('\\n',city)"
   ]
  },
  {
   "cell_type": "code",
   "execution_count": null,
   "id": "f9b23bb2-e398-4dce-9ec3-2b6d42f8e6a8",
   "metadata": {},
   "outputs": [],
   "source": [
    "new_city = ['Nyandarua','Bungoma']\n",
    "\n",
    "city.append(new_city)  # inserts a list at the end of a list\n",
    "\n",
    "print(city)"
   ]
  },
  {
   "cell_type": "code",
   "execution_count": null,
   "id": "bb3c2782-36c5-4742-9269-ffeafd3b4c40",
   "metadata": {},
   "outputs": [],
   "source": [
    "# list.extend() - inserts values at the end of a list\n",
    "countries = ['Kenya','Uganda','Australia','South Africa','Somalia']\n",
    "\n",
    "new_countries = ['Burundi','Sudan','Djibouti']\n",
    "\n",
    "countries.extend(new_countries)\n",
    "\n",
    "print(countries)"
   ]
  },
  {
   "cell_type": "code",
   "execution_count": null,
   "id": "094f2485-7054-441e-91f3-7bc210e9dabf",
   "metadata": {},
   "outputs": [],
   "source": [
    "# list.insert() - inserts valuea at a particular index\n",
    "\n",
    "presidents = ['Kenyatta','Kibaki','Uhuru','Ruto']\n",
    "\n",
    "presidents.insert(1, 'Moi')\n",
    "\n",
    "print(presidents)"
   ]
  },
  {
   "cell_type": "code",
   "execution_count": null,
   "id": "3564434f-2e7f-4e60-8826-49e74d18aebe",
   "metadata": {},
   "outputs": [],
   "source": [
    "# usage of .append, .extend, .insert in a for loop\n",
    "lst1=[]\n",
    "lst2=[]\n",
    "lst3=[]\n",
    "\n",
    "lst = ['A','B','C','D','E',['F','G'],('H','I')]\n",
    "\n",
    "for i in lst:\n",
    "    lst1.append(i)\n",
    "    lst2.extend(i)\n",
    "    lst3.insert(0,i)\n",
    "\n",
    "print('Appended values: ',lst1)\n",
    "print('Extended values: ',lst2)\n",
    "print('Inserted values: ',lst3)"
   ]
  },
  {
   "cell_type": "code",
   "execution_count": null,
   "id": "ace2ba3f-ddb9-433f-91bf-2224d445dd9b",
   "metadata": {},
   "outputs": [],
   "source": [
    "# list.reverse()\n",
    "\n",
    "lst = [5,4,3,2,1]\n",
    "\n",
    "lst.reverse()\n",
    "\n",
    "print(lst)"
   ]
  },
  {
   "cell_type": "code",
   "execution_count": null,
   "id": "50cf055d-de05-4131-a1af-6ed85581e07e",
   "metadata": {},
   "outputs": [],
   "source": [
    "# lst.sort - sorts values from A-Z then a-z alphabetically\n",
    "\n",
    "subjects = ['Maths','Chem','Eng','comp']\n",
    "marks = [34,78,75,64,39]\n",
    "\n",
    "subjects.sort()\n",
    "marks.sort()\n",
    "\n",
    "print(subjects)\n",
    "print(marks)"
   ]
  },
  {
   "cell_type": "code",
   "execution_count": null,
   "id": "ad6df41b-e997-4074-987d-e77420fa21db",
   "metadata": {},
   "outputs": [],
   "source": [
    "# lst.remove()\n",
    "\n",
    "print(subjects)\n",
    "\n",
    "subjects.remove('Eng')\n",
    "\n",
    "print(subjects)"
   ]
  },
  {
   "cell_type": "code",
   "execution_count": null,
   "id": "53d390ec-e918-435a-bba4-6a9405d79e8e",
   "metadata": {},
   "outputs": [],
   "source": [
    "# lst.pop() - removes a value at a particular index\n",
    "\n",
    "print(marks)\n",
    "\n",
    "a = marks.pop(2)\n",
    "\n",
    "print('\\n',a)\n",
    "\n",
    "print('\\n',marks)"
   ]
  },
  {
   "cell_type": "code",
   "execution_count": null,
   "id": "aca13f1d-864a-4428-872e-9c61e0d51119",
   "metadata": {},
   "outputs": [],
   "source": [
    "# lst.count() - determine the count/mode of a value in a list\n",
    "\n",
    "phy_scores = [99,100,99,95,100,99,95,90,99,100]\n",
    "\n",
    "print(phy_scores.count(99))   # count of 99 in list\n",
    "\n",
    "print(phy_scores.count(100))"
   ]
  },
  {
   "cell_type": "code",
   "execution_count": null,
   "id": "5b0897da-e5e6-4242-b43c-f6ca9660be7b",
   "metadata": {},
   "outputs": [],
   "source": [
    "# lst.index() - determines the index of a value in a list\n",
    "\n",
    "print(countries)\n",
    "\n",
    "countries.index('Burundi')"
   ]
  },
  {
   "cell_type": "code",
   "execution_count": null,
   "id": "36210d75-a184-4dc8-9897-d3d7d63c1496",
   "metadata": {},
   "outputs": [],
   "source": [
    "# lst.clear() - removes all values from a list\n",
    "\n",
    "print(presidents)\n",
    "\n",
    "presidents.clear()\n",
    "\n",
    "print(presidents)"
   ]
  },
  {
   "cell_type": "code",
   "execution_count": null,
   "id": "779e65c9-f95d-4b18-b24f-5f2241337351",
   "metadata": {},
   "outputs": [],
   "source": [
    "# multiple references to a single list\n",
    "\n",
    "print(marks)\n",
    "\n",
    "marks1 = marks\n",
    "\n",
    "marks1.append(78)\n",
    "\n",
    "print(marks)"
   ]
  },
  {
   "cell_type": "code",
   "execution_count": null,
   "id": "6919074d-a165-484b-8513-7094b515cb04",
   "metadata": {},
   "outputs": [],
   "source": [
    "print(marks)\n",
    "\n",
    "#lst.copy() - creates a copy of a list\n",
    "\n",
    "marks2 = marks.copy()\n",
    "\n",
    "marks2.append(90)\n",
    "\n",
    "print(marks)\n",
    "\n",
    "print(marks2)"
   ]
  },
  {
   "cell_type": "markdown",
   "id": "99ea9da5-5449-4eb9-948a-970ce434f339",
   "metadata": {},
   "source": [
    "LOOPING THROUGH A LIST"
   ]
  },
  {
   "cell_type": "code",
   "execution_count": null,
   "id": "c7f6e076-4c27-4e70-ac5a-6eff93459658",
   "metadata": {},
   "outputs": [],
   "source": [
    "countries\n",
    "\n",
    "for val in countries:\n",
    "\n",
    "    print(val)"
   ]
  },
  {
   "cell_type": "markdown",
   "id": "195f6e71-8f4b-4d8e-afe4-66b4c1a2678f",
   "metadata": {},
   "source": [
    "// TUPLES //"
   ]
  },
  {
   "cell_type": "code",
   "execution_count": null,
   "id": "ff1feda9-d28d-4095-a5b0-9394367eb569",
   "metadata": {},
   "outputs": [],
   "source": [
    "empty_tup = ()\n",
    "\n",
    "city = ('Nairobi', 'Kisumu', 'Nakuru', 'Mombasa')\n",
    "\n",
    "marks = (90,54,67,89)\n",
    "\n",
    "share_price = ((100, 105), [105,110])\n",
    "\n",
    "mixed = (1, 'Lamu', 2.25, 3+1.4j)\n",
    "\n",
    "tup_tup = (empty_tup, city, marks, share_price, mixed)\n",
    "\n",
    "for tup in tup_tup:\n",
    "\n",
    "    print(tup)"
   ]
  },
  {
   "cell_type": "code",
   "execution_count": null,
   "id": "bfe251ae-dd09-4561-98d3-a9d74af1210e",
   "metadata": {},
   "outputs": [],
   "source": [
    "# slicing of tuples\n",
    "\n",
    "numbers = (10,20,30,40,50,60,70,80,90)\n",
    "\n",
    "print(numbers[:])\n",
    "\n",
    "print(numbers[0:5])\n",
    "\n",
    "print(numbers[0:-3])"
   ]
  },
  {
   "cell_type": "code",
   "execution_count": null,
   "id": "27b6a78f-c00c-42a5-8f44-38f3c4ca772a",
   "metadata": {},
   "outputs": [],
   "source": [
    "# accessing elements and values in a nested tuple\n",
    "\n",
    "print(share_price[0])\n",
    "\n",
    "print(share_price[-1])\n",
    "\n",
    "share_op_price = share_price[1][0]\n",
    "print(share_op_price)\n",
    "\n",
    "share_price[1][1] = 155 # changing a value of a list within a tuple\n",
    "print(share_price)"
   ]
  },
  {
   "cell_type": "code",
   "execution_count": null,
   "id": "aed73f43-0493-44ff-bf14-735d5f3a8509",
   "metadata": {},
   "outputs": [],
   "source": [
    "# tuple operators\n",
    "\n",
    "tup1 = (1,2,3)\n",
    "tup2 = (4,5,6)\n",
    "\n",
    "tup4 = ('Sunday',)\n",
    "\n",
    "tup3 = tup1 + tup2\n",
    "\n",
    "print(tup3)\n",
    "\n",
    "print(tup4 * 5 )\n",
    "\n",
    "print(type(tup4))"
   ]
  },
  {
   "cell_type": "code",
   "execution_count": null,
   "id": "5154c962-b23d-4069-a825-8e9adfc4edd5",
   "metadata": {},
   "outputs": [],
   "source": [
    "# built in functions\n",
    "\n",
    "print(marks)\n",
    "\n",
    "print(len(marks))\n",
    "\n",
    "print(max(marks))\n",
    "\n",
    "print(min(marks))"
   ]
  },
  {
   "cell_type": "code",
   "execution_count": null,
   "id": "712daab4-46cf-44a4-bbc5-f1b94905a23c",
   "metadata": {},
   "outputs": [],
   "source": [
    "# sorting a tuple\n",
    "\n",
    "tup = ('C','E','B','D','F','A')\n",
    "\n",
    "sorted_tup = sorted(tup)\n",
    "\n",
    "print('Original tuple: ',tup)\n",
    "\n",
    "print('\\nSorted tuple: ',sorted_tup)\n",
    "\n",
    "# Sorted function gives a list as an output"
   ]
  },
  {
   "cell_type": "code",
   "execution_count": null,
   "id": "1806392f-1880-40e4-a48e-59894a0b7d57",
   "metadata": {},
   "outputs": [],
   "source": [
    "# reverse sorting a tuple\n",
    "\n",
    "numbers = (10,20,30,40,50,60,70,80,90)\n",
    "\n",
    "print(sorted(numbers, reverse=True))"
   ]
  },
  {
   "cell_type": "code",
   "execution_count": null,
   "id": "b244bba5-a711-4c29-88d7-6ec69eed67a3",
   "metadata": {},
   "outputs": [],
   "source": [
    "marks\n",
    "\n",
    "del marks\n",
    "\n",
    "print(marks)"
   ]
  },
  {
   "cell_type": "code",
   "execution_count": null,
   "id": "a72ff856-9e0a-4160-88ad-452824e0c71c",
   "metadata": {},
   "outputs": [],
   "source": [
    "numbers\n",
    "\n",
    "del numbers[1]\n",
    "\n",
    "print(numbers)\n",
    "\n"
   ]
  },
  {
   "cell_type": "code",
   "execution_count": null,
   "id": "f2526d4f-4cd8-4ce5-85d0-eb64e02c11b3",
   "metadata": {},
   "outputs": [],
   "source": [
    "# looping through a tuple\n",
    "\n",
    "tup = ('one', 'two', 'three', 'four', 'five')\n",
    "\n",
    "for val in tup:\n",
    "\n",
    "    print(val)"
   ]
  },
  {
   "cell_type": "code",
   "execution_count": null,
   "id": "5f49753e-b6ed-484b-9f15-f57339cc40c4",
   "metadata": {},
   "outputs": [],
   "source": [
    "# strings\n",
    "\n",
    "s = 'Deng'\n",
    "\n",
    "s[2]"
   ]
  },
  {
   "cell_type": "code",
   "execution_count": null,
   "id": "6b370a95-4b56-407e-9757-50d14e288d6d",
   "metadata": {},
   "outputs": [],
   "source": [
    "print(s[len(s)-1]) # fetches the last charater of a string"
   ]
  },
  {
   "cell_type": "code",
   "execution_count": null,
   "id": "3ad53e94-92c3-48e4-8ada-61ef55009fa8",
   "metadata": {},
   "outputs": [],
   "source": [
    "k = 'Learning PYTHON is FUN'\n",
    "\n",
    "print(k[:])\n",
    "\n",
    "print(k[0:9])\n",
    "\n",
    "print(k[9:])"
   ]
  },
  {
   "cell_type": "code",
   "execution_count": null,
   "id": "6a854718-0cd1-4604-92c7-77d48f21f6f2",
   "metadata": {},
   "outputs": [],
   "source": [
    "k\n",
    "\n",
    "print(f'Length of {k} is',len(k))\n",
    "\n",
    "print(k.lower())\n",
    "\n",
    "print(k.upper())\n",
    "\n",
    "print(k.swapcase())\n",
    "\n",
    "print(k.capitalize())\n",
    "\n",
    "print(k.title())"
   ]
  },
  {
   "cell_type": "code",
   "execution_count": null,
   "id": "24530b33-3412-421e-88f5-2ebe65760adb",
   "metadata": {},
   "outputs": [],
   "source": [
    "# methods to strip leading and trailing spaces\n",
    "\n",
    "s = '         Learning PYTHON is FUN'\n",
    "\n",
    "s.lstrip()  # left strip hence lstrip"
   ]
  },
  {
   "cell_type": "code",
   "execution_count": null,
   "id": "267d5628-ed3f-47d8-b285-f092d5782985",
   "metadata": {},
   "outputs": [],
   "source": [
    "s = 'Learning PYTHON is FUN**************'\n",
    "\n",
    "s.rstrip('*')  # right strip hence rstrip"
   ]
  },
  {
   "cell_type": "code",
   "execution_count": null,
   "id": "6a76c14c-9769-4df7-a103-29ba1e0816a2",
   "metadata": {},
   "outputs": [],
   "source": [
    "s  = '*********************Learning PYTHON is FUN**************'\n",
    "\n",
    "s.strip('*')"
   ]
  },
  {
   "cell_type": "code",
   "execution_count": null,
   "id": "947599d7-3265-4be3-8d5e-68ba79c01b3d",
   "metadata": {},
   "outputs": [],
   "source": [
    "# finding the index of a value in a string\n",
    "\n",
    "s = 'Learning PYTHON is FUN'\n",
    "\n",
    "length = len(s)\n",
    "\n",
    "s.index('YT')"
   ]
  },
  {
   "cell_type": "code",
   "execution_count": null,
   "id": "6c2b5a5b-35fe-48f6-8360-68d79484bdb4",
   "metadata": {},
   "outputs": [],
   "source": [
    "# finding the index of a value in a string\n",
    "\n",
    "s = 'Learning PYTHON is FUN'\n",
    "\n",
    "length = len(s)\n",
    "\n",
    "s.find('YT')"
   ]
  },
  {
   "cell_type": "code",
   "execution_count": null,
   "id": "957612a7-95b0-4d43-a39c-81cb644eac0c",
   "metadata": {},
   "outputs": [],
   "source": [
    "# replacing a value within a string\n",
    "\n",
    "s = 'Learning PYTHON is FUN'\n",
    "\n",
    "s.replace('FUN','SUPER FUN')"
   ]
  },
  {
   "cell_type": "code",
   "execution_count": null,
   "id": "2c0d79f2-452d-4855-8d26-a838cdcb5f24",
   "metadata": {},
   "outputs": [],
   "source": [
    "s  = '*********************Learning PYTHON is FUN**************'\n",
    "\n",
    "s.replace('*','@',5)"
   ]
  },
  {
   "cell_type": "code",
   "execution_count": null,
   "id": "d4e9883f-4953-494e-9b42-f0ec68b4a20e",
   "metadata": {},
   "outputs": [],
   "source": [
    "\" \".join(['Welcome','to','Kenya.','Feel','at','home'])"
   ]
  },
  {
   "cell_type": "code",
   "execution_count": null,
   "id": "c30d77a6-5676-4085-994a-13fa4bc58df5",
   "metadata": {},
   "outputs": [],
   "source": [
    "'Welcome to Kenya. Feel at home'.split()"
   ]
  },
  {
   "cell_type": "markdown",
   "id": "a672d0c3-76e7-468c-9638-d3c42a2b8535",
   "metadata": {},
   "source": [
    "SETS"
   ]
  },
  {
   "cell_type": "code",
   "execution_count": null,
   "id": "e1ed5437-10d5-4b73-9631-76f71e129f21",
   "metadata": {},
   "outputs": [],
   "source": [
    "empty_set = set()\n",
    "\n",
    "print(empty_set)\n",
    "\n",
    "s = {10,20,30,80,90,60,50,100}\n",
    "\n",
    "print(s)"
   ]
  },
  {
   "cell_type": "code",
   "execution_count": null,
   "id": "475f98ac-1a7e-45f0-bf54-2196d075d34a",
   "metadata": {},
   "outputs": [],
   "source": [
    "lst  = ['one','two','three','one','four','five']\n",
    "\n",
    "print(f'list with duplicates: {lst}')\n",
    "\n",
    "s = set(lst)\n",
    "\n",
    "print(f'set removes duplicates: {s}')\n",
    "\n",
    "print('\\n',s)"
   ]
  },
  {
   "cell_type": "code",
   "execution_count": null,
   "id": "247a5b20-932f-43ae-8fbc-4794836cb47b",
   "metadata": {},
   "outputs": [],
   "source": [
    "marks = {10,20,30,80,90,60,50,40,70,100}\n",
    "\n",
    "print(marks)\n",
    "\n",
    "print(len(marks))\n",
    "\n",
    "print(max(marks))\n",
    "\n",
    "print(min(marks))\n",
    "\n",
    "print(sum(marks))\n",
    "\n",
    "print(sorted(marks))\n",
    "\n",
    "print(sorted(marks, reverse=True))"
   ]
  },
  {
   "cell_type": "code",
   "execution_count": null,
   "id": "d86540ad-6a20-46b8-b26b-68b86e36fa90",
   "metadata": {},
   "outputs": [],
   "source": [
    "empty = set()\n",
    "\n",
    "marks = {10,0,20,30,80,90,60,50,40,70,100}\n",
    "\n",
    "marks1 = {10,20,30,80,90,60,50,40,70,100}\n",
    "\n",
    "print('All',all(marks)) # false since it contains non zero values\n",
    "\n",
    "print('All',all(marks1)) # true since it doesn't contain non-zero values\n",
    "\n",
    "print('All',all(empty))"
   ]
  },
  {
   "cell_type": "code",
   "execution_count": null,
   "id": "0f9bf3f5-b28c-4521-be66-ca45156040bc",
   "metadata": {},
   "outputs": [],
   "source": [
    "# set.add()\n",
    "\n",
    "s = {1,2,3,4}\n",
    "\n",
    "print(s)\n",
    "\n",
    "s.add(5)\n",
    "\n",
    "print(s)"
   ]
  },
  {
   "cell_type": "code",
   "execution_count": null,
   "id": "1856c183-1b9d-4257-9812-7e4998f374ac",
   "metadata": {},
   "outputs": [],
   "source": [
    "set1 = {3,6,8,2}\n",
    "\n",
    "print(set1)\n",
    "\n",
    "set2 = {4,2,1,9}\n",
    "\n",
    "print(set2)\n",
    "\n",
    "set1.update(set2)\n",
    "\n",
    "print(f'updated set is {set1}')"
   ]
  },
  {
   "cell_type": "code",
   "execution_count": null,
   "id": "ca26c8f7-4b6e-4ae8-9a6d-eac4ec820304",
   "metadata": {},
   "outputs": [],
   "source": [
    "set1 = {1,2,3,4,5,7}\n",
    "\n",
    "print(f'set before remove {set1}')\n",
    "\n",
    "set1.remove(7)\n",
    "\n",
    "print(f'set after remove {set1}')"
   ]
  },
  {
   "cell_type": "code",
   "execution_count": null,
   "id": "ffab0cfd-1482-4597-b12f-9754b3cd2d07",
   "metadata": {},
   "outputs": [],
   "source": [
    "set1 = {1,2,3,4,5,7}\n",
    "\n",
    "set1.pop()\n",
    "\n",
    "print(set1)"
   ]
  },
  {
   "cell_type": "code",
   "execution_count": null,
   "id": "f7eaf95c-9575-4267-a438-a5a359876b00",
   "metadata": {},
   "outputs": [],
   "source": [
    "set1 = {3,8,6,6,2}\n",
    "\n",
    "set2 = {4,2,1,3,9}\n",
    "\n",
    "set3 = set1.union(set2)\n",
    "\n",
    "print(set3)\n",
    "\n",
    "print(set1 | set2)"
   ]
  },
  {
   "cell_type": "code",
   "execution_count": null,
   "id": "cfd8b9fa-6805-4ee0-b4f4-a981aa6cd678",
   "metadata": {},
   "outputs": [],
   "source": [
    "set1 = {3,8,6,2,9,3}\n",
    "\n",
    "set2 = {4,2,1,9,3,2}\n",
    "\n",
    "set3 = set1.intersection(set2)\n",
    "\n",
    "print(set3)\n",
    "\n",
    "print(set1 & set2)\n",
    "\n",
    "set1.intersection_update(set2)\n",
    "\n",
    "print(f'updated set1 is {set1}')"
   ]
  },
  {
   "cell_type": "code",
   "execution_count": null,
   "id": "2037bda4-516f-4151-a87b-6d142d70968f",
   "metadata": {},
   "outputs": [],
   "source": [
    "set1 = {3,8,6,2,9}\n",
    "\n",
    "set2 = {4,2,1,9,3}\n",
    "\n",
    "set3 = set1.difference(set2)\n",
    "\n",
    "print(set3)\n",
    "\n",
    "print(set1 - set2)"
   ]
  },
  {
   "cell_type": "code",
   "execution_count": null,
   "id": "ded875cd-973a-4b8f-9b3b-a17f7470c955",
   "metadata": {},
   "outputs": [],
   "source": [
    "set1 = {3,8,6,2,9}\n",
    "\n",
    "set2 = {4,2,1,9,3}\n",
    "\n",
    "set3 = set1.symmetric_difference(set2)\n",
    "\n",
    "print(set3)\n",
    "\n",
    "print(set1 ^ set2)\n",
    "\n",
    "set1.isdisjoint(set2)"
   ]
  },
  {
   "cell_type": "code",
   "execution_count": null,
   "id": "dbaa6818-d476-435a-8a84-bc279e712fe8",
   "metadata": {},
   "outputs": [],
   "source": [
    "set1 = {3,8,2,6}\n",
    "\n",
    "set2 = {4,7,10,9}\n",
    "\n",
    "set1.isdisjoint(set2)"
   ]
  },
  {
   "cell_type": "code",
   "execution_count": null,
   "id": "4ec8052a-4f6c-4ee1-8789-5c1100447d04",
   "metadata": {},
   "outputs": [],
   "source": [
    "lst = [10,10,20,30,40]\n",
    "\n",
    "greet = 'Hello'\n",
    "\n",
    "frozenlst = frozenset(lst)\n",
    "frozengreet = frozenset(greet)\n",
    "\n",
    "print(frozenlst)\n",
    "print(frozengreet)"
   ]
  },
  {
   "cell_type": "code",
   "execution_count": null,
   "id": "2d110549-c258-4ac3-a213-a6af4cb4a809",
   "metadata": {},
   "outputs": [],
   "source": [
    "a_dict = {frozenlst: 'Numbers', frozengreet: 'Wish'}\n",
    "\n",
    "a_dict[frozenlst]"
   ]
  },
  {
   "cell_type": "code",
   "execution_count": null,
   "id": "06d97e3e-35c0-47f4-89a5-9f77449b13f4",
   "metadata": {},
   "outputs": [],
   "source": [
    "my_dict = {}\n",
    "\n",
    "# or\n",
    "\n",
    "my_dict = dict()  # empty dictionary\n",
    "\n",
    "currency = {'Ken': 'Kes', 'US': 'USD'}\n",
    "\n",
    "print(f'global currencies are {currency}')\n",
    "\n",
    "my_dict = {1: 'abc', 'two': [1,2,3,4]}\n",
    "\n",
    "print(f'mixed dict {my_dict}')"
   ]
  },
  {
   "cell_type": "code",
   "execution_count": null,
   "id": "dcc1f5c8-650a-4c75-ab08-996eff3fa674",
   "metadata": {},
   "outputs": [],
   "source": [
    "# creating dictionary using a list of tuples\n",
    "\n",
    "currency = dict([('Ken','Kes'), ('US','USD')])\n",
    "\n",
    "print(currency)"
   ]
  },
  {
   "cell_type": "code",
   "execution_count": null,
   "id": "bb4e707c-81bf-4c81-b87a-c9bbf3f82abf",
   "metadata": {},
   "outputs": [],
   "source": [
    "# accessing values in a dict\n",
    "\n",
    "currency = {'Ken': 'Kes', 'US': 'USD'}\n",
    "\n",
    "print(currency['Ken'])\n",
    "print(currency['US'])"
   ]
  },
  {
   "cell_type": "code",
   "execution_count": null,
   "id": "26218e5d-4871-4e16-854b-4667f74e09f7",
   "metadata": {},
   "outputs": [],
   "source": [
    "# adding a key:value pair in a dict \n",
    "\n",
    "currency['AUS'] = 'AUD'\n",
    "currency['UK'] = 'GBP'\n",
    "\n",
    "print(currency)"
   ]
  },
  {
   "cell_type": "code",
   "execution_count": null,
   "id": "18f1541a-7778-46f4-bfbf-80d62cef1c7a",
   "metadata": {},
   "outputs": [],
   "source": [
    "# deleting a key:value pair\n",
    "\n",
    "del currency['AUS']\n",
    "\n",
    "print(currency)"
   ]
  },
  {
   "cell_type": "markdown",
   "id": "bddec31a-ba3e-4564-9832-b2a4a38923c5",
   "metadata": {},
   "source": [
    "DICTIONARY METHODS"
   ]
  },
  {
   "cell_type": "code",
   "execution_count": null,
   "id": "b94687c4-3cfe-4c11-ac44-4a2e4430c6c4",
   "metadata": {},
   "outputs": [],
   "source": [
    "# dict.pop()\n",
    "\n",
    "currency = {'Ken': 'Kes', 'US': 'USD', 'AUS': 'AUD', 'UK': 'GBP'}\n",
    "\n",
    "popped = currency.pop('Ken')\n",
    "\n",
    "print(f'popped value is {popped}')\n",
    "\n",
    "print('\\n',currency)"
   ]
  },
  {
   "cell_type": "code",
   "execution_count": null,
   "id": "ab906684-af8b-40dd-8b9f-8fead39fb0d2",
   "metadata": {},
   "outputs": [],
   "source": [
    "# dict.popitem()\n",
    "\n",
    "currency = {'Ken': 'Kes', 'US': 'USD', 'AUS': 'AUD', 'UK': 'GBP'}\n",
    "\n",
    "print(currency.popitem())\n",
    "\n",
    "print(currency)"
   ]
  },
  {
   "cell_type": "code",
   "execution_count": null,
   "id": "a56a04ba-d31b-4a79-8918-9c44a51b212c",
   "metadata": {},
   "outputs": [],
   "source": [
    "# dict.clear()\n",
    "\n",
    "square = {2:4, 3:9, 4:16}\n",
    "\n",
    "\n",
    "square.clear()\n",
    "\n",
    "print(square)"
   ]
  },
  {
   "cell_type": "code",
   "execution_count": null,
   "id": "04b70190-a01b-4687-a4f8-4cdde4a30c99",
   "metadata": {},
   "outputs": [],
   "source": [
    "# dict.copy()\n",
    "\n",
    "square = {2:4, 3:9, 4:16}\n",
    "\n",
    "square_cpy = square.copy()\n",
    "\n",
    "print(square_cpy)"
   ]
  },
  {
   "cell_type": "code",
   "execution_count": null,
   "id": "3a019bb6-c212-48f3-a075-f9d296814ece",
   "metadata": {},
   "outputs": [],
   "source": [
    "currency = {'Ken': 'Kes', 'US': 'USD', 'AUS': 'AUD', 'UK': 'GBP'}\n",
    "\n",
    "print(currency.keys())\n",
    "\n",
    "print(currency.values())\n",
    "\n",
    "print(currency.items())"
   ]
  },
  {
   "cell_type": "code",
   "execution_count": null,
   "id": "322ba4c5-803e-40d7-bb37-fc3df5ab860d",
   "metadata": {},
   "outputs": [],
   "source": [
    "# dict.update()\n",
    "\n",
    "square = {2:4, 3:9, 4:16}\n",
    "\n",
    "sq2 = {5:25, 6:36}\n",
    "\n",
    "square.update(sq2)\n",
    "\n",
    "print(square)"
   ]
  },
  {
   "cell_type": "code",
   "execution_count": null,
   "id": "d6ab8bec-50ee-47e4-8e55-ccdf242a9de9",
   "metadata": {},
   "outputs": [],
   "source": [
    "# dict.get(key)\n",
    "\n",
    "square\n",
    "\n",
    "print(square.get(5))"
   ]
  },
  {
   "cell_type": "code",
   "execution_count": null,
   "id": "e7692ea0-a69a-442f-9f9b-b8b57811465c",
   "metadata": {},
   "outputs": [],
   "source": [
    "# dict.setdedault(key)\n",
    "\n",
    "square.setdefault(12,144)\n",
    "\n",
    "print(square)\n",
    "\n",
    "print(square.get(12))"
   ]
  },
  {
   "cell_type": "code",
   "execution_count": null,
   "id": "4a88e490-a1e3-4e95-97c4-ff4dc4f96281",
   "metadata": {},
   "outputs": [],
   "source": [
    "subjects = {}\n",
    "\n",
    "subjects = subjects.fromkeys(['Eng','Mat','Kisw'], 0)\n",
    "\n",
    "print(subjects)"
   ]
  },
  {
   "cell_type": "code",
   "execution_count": null,
   "id": "60b363b1-98bf-4fdd-a38a-af047aafc02c",
   "metadata": {},
   "outputs": [],
   "source": [
    "currency = {'Ken': 'Kes', 'US': 'USD', 'AUS': 'AUD', 'UK': 'GBP'}\n",
    "\n",
    "for i in currency.keys():  # using dict.keys\n",
    "\n",
    "    print(i,':',currency[i])"
   ]
  },
  {
   "cell_type": "code",
   "execution_count": null,
   "id": "11752cc3-bdb2-44ff-93fe-7c7e81274031",
   "metadata": {},
   "outputs": [],
   "source": [
    "for i in currency.values():  # using dict.values\n",
    "\n",
    "    print(i)"
   ]
  },
  {
   "cell_type": "code",
   "execution_count": null,
   "id": "6221fdae-1b33-497b-8844-bee9b788bce9",
   "metadata": {},
   "outputs": [],
   "source": [
    "for i in currency.items():  # using dict.items\n",
    "\n",
    "    print(i)"
   ]
  },
  {
   "cell_type": "markdown",
   "id": "0827d25e-640a-4b8c-8699-d89f4c5abf51",
   "metadata": {},
   "source": [
    "FUNCTIONS"
   ]
  },
  {
   "cell_type": "code",
   "execution_count": null,
   "id": "28ad4e66-81f7-494d-99b1-9291b24c5932",
   "metadata": {},
   "outputs": [],
   "source": [
    "# function to check if a number is positive or negative\n",
    "\n",
    "def positive_negative(num):  # num is a parameter\n",
    "    '''function returns \"its positive\" if the number is great than 0\n",
    "    else return \"its negative\" if it is less than zero else it returns \"its zero\"\n",
    "    if a number is zero'''\n",
    "\n",
    "    if num > 0:\n",
    "        return 'Its positive'\n",
    "    elif num < 0:\n",
    "        return 'Its negative'\n",
    "    else:\n",
    "        return 'Its zero'\n",
    "\n",
    "# below are function calls\n",
    "\n",
    "print(positive_negative(3)) \n",
    "\n",
    "print(positive_negative(-7))\n",
    "\n",
    "print(positive_negative(0))  # the values 3,-7,0 are called arguments"
   ]
  },
  {
   "cell_type": "code",
   "execution_count": null,
   "id": "91416517-5591-49bf-b401-37e95e058cac",
   "metadata": {},
   "outputs": [],
   "source": [
    "# function to get the sum of 2 numbers\n",
    "\n",
    "def add(a,b):\n",
    "    '''helps add two values'''\n",
    "    \n",
    "    addition = a + b\n",
    "    \n",
    "    return addition\n",
    "\n",
    "a = int(input('Enter first number:'))\n",
    "b = int(input('Enter second number:'))\n",
    "\n",
    "s = add(a,b) # function call\n",
    "\n",
    "print(f'The sum of {a} and {b} is {s}')"
   ]
  },
  {
   "cell_type": "code",
   "execution_count": null,
   "id": "9df2c7e3-ffb5-4c78-b932-0f66dc9ae41b",
   "metadata": {},
   "outputs": [],
   "source": [
    "print(add.__doc__)"
   ]
  },
  {
   "cell_type": "code",
   "execution_count": null,
   "id": "1d71fd4b-ed3d-4f9c-a107-5fb58b6c7db3",
   "metadata": {},
   "outputs": [],
   "source": [
    "# function arguments and parameters\n",
    "\n",
    "def result(intern, msg): # parameters\n",
    "    '''this message wishes the intern\n",
    "    with a congratulation msg'''\n",
    "\n",
    "    print('Great job!',intern, '.' + msg)\n",
    "    "
   ]
  },
  {
   "cell_type": "code",
   "execution_count": null,
   "id": "25fde623-90c3-43fb-b276-e2bc59e8214a",
   "metadata": {},
   "outputs": [],
   "source": [
    "result('Deng', 'You have passed') # passing arguments"
   ]
  },
  {
   "cell_type": "code",
   "execution_count": null,
   "id": "a7ff1051-b7fe-4365-a0bc-bc6ae927fc12",
   "metadata": {},
   "outputs": [],
   "source": [
    "# default arguments\n",
    "\n",
    "def result(intern, msg='You qualified'):\n",
    "    '''default argument\n",
    "    example'''\n",
    "\n",
    "    print('Great job!',intern,'.' + msg)\n",
    "\n",
    "result('Joe')"
   ]
  },
  {
   "cell_type": "code",
   "execution_count": null,
   "id": "99889903-dc1c-4e98-bdb0-ce9ad51efff1",
   "metadata": {},
   "outputs": [],
   "source": [
    "# a default argument should always follow a non-default argument\n",
    "\n",
    "def greet(Son, msg='good morning'):\n",
    "\n",
    "    print(Son,msg)\n",
    "\n",
    "greet('Deng')"
   ]
  },
  {
   "cell_type": "code",
   "execution_count": null,
   "id": "46363bd1-219d-49fb-9fa5-89fd2131513d",
   "metadata": {},
   "outputs": [],
   "source": [
    "# keyworded arguments\n",
    "\n",
    "def result(**kwargs): # kwargs can be given any name\n",
    "\n",
    "    print(kwargs)\n",
    "    print(type(kwargs))\n",
    "    print('Great job,',kwargs['intern'] , 'with roll number' + kwargs['rollno'] + kwargs['result'])"
   ]
  },
  {
   "cell_type": "code",
   "execution_count": null,
   "id": "034d22e9-f966-483e-a6a7-d76e69b5a682",
   "metadata": {},
   "outputs": [],
   "source": [
    "result(intern = 'Deng', result = ' You are hired', rollno = ' 163599')"
   ]
  },
  {
   "cell_type": "code",
   "execution_count": null,
   "id": "3c54eaed-a5a3-4b06-9018-d35877feec91",
   "metadata": {},
   "outputs": [],
   "source": [
    "# non-keyworded arguments\n",
    "\n",
    "def result(*args):\n",
    "    '''wishes the tuple of args\n",
    "    with a congrats msg'''\n",
    "    print(args)\n",
    "    print(type(args))\n",
    "\n",
    "    for intern in args:\n",
    "        \n",
    "        print('\\nGreat job',intern,'! Congrats!')\n",
    "\n"
   ]
  },
  {
   "cell_type": "code",
   "execution_count": null,
   "id": "d14cd388-db59-450f-af38-07f215ed42b7",
   "metadata": {},
   "outputs": [],
   "source": [
    "result('Joe','John','Deng','Lynne')"
   ]
  },
  {
   "cell_type": "markdown",
   "id": "c63ee5a1-9f9f-4a03-b0e1-8c0d6a7557c8",
   "metadata": {},
   "source": [
    "BUILT-IN FUNCTIONS"
   ]
  },
  {
   "cell_type": "code",
   "execution_count": null,
   "id": "a73d59e2-b1b4-4e64-b75a-cab7777b844b",
   "metadata": {},
   "outputs": [],
   "source": [
    "# absolute function\n",
    "\n",
    "integer = -40\n",
    "\n",
    "abs(integer)"
   ]
  },
  {
   "cell_type": "code",
   "execution_count": null,
   "id": "9fda7016-d9a6-48ff-8b94-b0fdfeec34de",
   "metadata": {},
   "outputs": [],
   "source": [
    "# dir function\n",
    "\n",
    "number = [1, 2, 3]\n",
    "\n",
    "dir(number)"
   ]
  },
  {
   "cell_type": "code",
   "execution_count": null,
   "id": "c7774f01-f2b9-454b-a10f-5b4ca9c76913",
   "metadata": {},
   "outputs": [],
   "source": [
    "# divmod function\n",
    "\n",
    "divmod(16, 5)"
   ]
  },
  {
   "cell_type": "code",
   "execution_count": null,
   "id": "e3fad3bf-fdaf-4669-82e9-95eabb159f33",
   "metadata": {},
   "outputs": [],
   "source": [
    "# enumerate func\n",
    "\n",
    "grocery = {'milk','butter','bread','jam'}\n",
    "\n",
    "enumerategrocery = enumerate(grocery,1)\n",
    "\n",
    "for val in enumerategrocery:\n",
    "\n",
    "    print(val)"
   ]
  },
  {
   "cell_type": "code",
   "execution_count": null,
   "id": "f346385d-61f8-4d65-b9cf-427474a7118e",
   "metadata": {},
   "outputs": [],
   "source": [
    "print('\\n',list(enumerate(grocery,3)))"
   ]
  },
  {
   "cell_type": "code",
   "execution_count": null,
   "id": "83d0b5cf-63e6-438a-864e-d4d18a36b688",
   "metadata": {},
   "outputs": [],
   "source": [
    "# map function\n",
    "\n",
    "def calcsquare(n):\n",
    "\n",
    "    return n*n\n",
    "\n",
    "numbers = (1,2,3,4,5,6,7,8,9,10)\n",
    "\n",
    "result = map(calcsquare, numbers)\n",
    "\n",
    "numbersSquare = list(result) # converting map object to a set\n",
    "\n",
    "print(numbersSquare)"
   ]
  },
  {
   "cell_type": "code",
   "execution_count": null,
   "id": "1cc361d5-c36a-4453-b7a8-e1749af32c24",
   "metadata": {},
   "outputs": [],
   "source": [
    "# filter function\n",
    "\n",
    "co_cap = ['India','Delhi','AUS','Canberra','England','London','USA','DC']\n",
    "\n",
    "# function that filters capital cities\n",
    "\n",
    "def filter_capitals(co_cap):\n",
    "    capitals = ['Delhi','Canberra','London','Ottawa','DC']\n",
    "    if(co_cap in capitals):\n",
    "        return True\n",
    "    else:\n",
    "        return False\n",
    "\n",
    "filteredcapitals = filter(filter_capitals, co_cap)\n",
    "\n",
    "print('The capital cities are: \\n')\n",
    "for capitals in filteredcapitals:\n",
    "\n",
    "    print(capitals)"
   ]
  },
  {
   "cell_type": "code",
   "execution_count": null,
   "id": "86e81145-8b83-4220-8503-d1b48e8a4619",
   "metadata": {},
   "outputs": [],
   "source": [
    "# reduce function\n",
    "\n",
    "lst = [1,2,3,4,5]\n",
    "\n",
    "\n",
    "\n",
    "# inporting functools for reduce()\n",
    "\n",
    "from functools import reduce\n",
    "\n",
    "def multiply(x,y):\n",
    "    print(x + y)\n",
    "    return x+y\n",
    "\n",
    "cat = reduce(multiply, lst)\n",
    "\n",
    "print('Reduced text is: ',cat)"
   ]
  },
  {
   "cell_type": "markdown",
   "id": "b638ae54-0c37-480a-a3c4-d241b0a399cf",
   "metadata": {},
   "source": [
    "RECURSIVE FUNCTION"
   ]
  },
  {
   "cell_type": "code",
   "execution_count": null,
   "id": "c4c1ab8e-e60e-4379-8ba9-011f94128542",
   "metadata": {},
   "outputs": [],
   "source": [
    "# recursive function \n",
    "\n",
    "def factorial(x):\n",
    "    '''this is a recursive function\n",
    "    returning the factorial of a number'''\n",
    "\n",
    "    if x == 1 or x == 0:\n",
    "        return 1\n",
    "    else:\n",
    "        return (x * factorial(x-1))\n",
    "\n",
    "num = int(input('Enter a number: '))\n",
    "\n",
    "print('The factorial of', num, 'is', factorial(num))\n"
   ]
  },
  {
   "cell_type": "code",
   "execution_count": null,
   "id": "1225e9c3-0071-4b27-b5d7-739999abac56",
   "metadata": {},
   "outputs": [],
   "source": [
    "# program to print the fibonacci sequence upto n-terms using recursive functon\n",
    "\n",
    "def recursive_fibo(num):\n",
    "    '''This is a recursive function'''\n",
    "\n",
    "    if num <= 1:\n",
    "        return num\n",
    "    else:\n",
    "        return(recursive_fibo(num - 1) + recursive_fibo(num - 2))\n",
    "\n",
    "n_terms = int(input('Enter a number: '))\n",
    "\n",
    "print(f'Fibonacci sequence of {n_terms} terms is:')\n",
    "\n",
    "for num in range(n_terms):\n",
    "    print(recursive_fibo(num))"
   ]
  },
  {
   "cell_type": "markdown",
   "id": "f06b0c02-fb73-4864-83b0-2c9715cbf434",
   "metadata": {},
   "source": [
    "LAMBDA FUNCTIONS"
   ]
  },
  {
   "cell_type": "code",
   "execution_count": null,
   "id": "33e6501a-6898-46c0-9d8d-9b74136b420f",
   "metadata": {},
   "outputs": [],
   "source": [
    "# normal function\n",
    "\n",
    "def double(x):\n",
    "\n",
    "    return x**2\n",
    "\n",
    "print(double(5))"
   ]
  },
  {
   "cell_type": "code",
   "execution_count": null,
   "id": "c1fc6cd1-132b-4eeb-82b0-bc93e9f2a06a",
   "metadata": {},
   "outputs": [],
   "source": [
    "# lambda function\n",
    "\n",
    "double = lambda x: x ** 2\n",
    "\n",
    "print(double(5))"
   ]
  },
  {
   "cell_type": "code",
   "execution_count": null,
   "id": "1961d41b-a9e8-4902-930c-43b329bb57c4",
   "metadata": {},
   "outputs": [],
   "source": [
    "mply = lambda x,y: x * y\n",
    "\n",
    "print(mply(4, 5))"
   ]
  },
  {
   "cell_type": "code",
   "execution_count": null,
   "id": "23988ab4-782d-416b-9b9a-12ad69a99173",
   "metadata": {},
   "outputs": [],
   "source": [
    "# usage of lambda function within filter()\n",
    "\n",
    "numbers = [1,2,3,4,5]\n",
    "\n",
    "even = filter(lambda x: x%2 == 0, numbers)\n",
    "\n",
    "print(list(even))"
   ]
  },
  {
   "cell_type": "code",
   "execution_count": null,
   "id": "24734deb-5838-42f7-a511-f0bf66beb34e",
   "metadata": {},
   "outputs": [],
   "source": [
    "# usage of lambda func within a map()\n",
    "\n",
    "numbers = [1,2,3,4,5]  # iterable\n",
    "\n",
    "square=list(map(lambda x: x * x, numbers))\n",
    "\n",
    "print(square)"
   ]
  },
  {
   "cell_type": "code",
   "execution_count": null,
   "id": "f981cc7b-b24f-4d2f-aa54-1f67b614921b",
   "metadata": {},
   "outputs": [],
   "source": [
    "# usage of lambda func within reduce()\n",
    "\n",
    "numbers = [1,2,3,4,5]\n",
    "\n",
    "from functools import reduce\n",
    "\n",
    "square=reduce(lambda x,y: x + y, numbers)\n",
    "\n",
    "print(square)"
   ]
  },
  {
   "cell_type": "code",
   "execution_count": null,
   "id": "ca912e88-00d6-443c-a2a6-421745634063",
   "metadata": {},
   "outputs": [],
   "source": [
    "import os"
   ]
  },
  {
   "cell_type": "code",
   "execution_count": null,
   "id": "e631a5a4-686f-4576-89f4-fa0501ea1d2c",
   "metadata": {},
   "outputs": [],
   "source": [
    "print(os.__doc__)"
   ]
  },
  {
   "cell_type": "code",
   "execution_count": null,
   "id": "364ebf8a-c22b-4d07-8f45-3badc185ce40",
   "metadata": {},
   "outputs": [],
   "source": [
    "print(os.__file__)"
   ]
  },
  {
   "cell_type": "code",
   "execution_count": null,
   "id": "37613ab7-10a6-4ff8-ba36-bf2f42efe152",
   "metadata": {},
   "outputs": [],
   "source": [
    "print(os.__all__)"
   ]
  },
  {
   "cell_type": "code",
   "execution_count": null,
   "id": "20e99b5b-6fdc-4915-bc04-439811bdcdf0",
   "metadata": {},
   "outputs": [],
   "source": [
    "import keyword\n",
    "\n",
    "print(keyword.kwlist)"
   ]
  },
  {
   "cell_type": "code",
   "execution_count": null,
   "id": "73643d3f-53f2-4318-8d0e-918cf01c869b",
   "metadata": {},
   "outputs": [],
   "source": [
    "print(keyword.__all__)"
   ]
  },
  {
   "cell_type": "code",
   "execution_count": null,
   "id": "7bfba3e4-589e-45f1-9da9-d2ee7d07e396",
   "metadata": {},
   "outputs": [],
   "source": [
    "import math as m # import with renaming\n",
    "\n",
    "print(m.pi)"
   ]
  },
  {
   "cell_type": "code",
   "execution_count": null,
   "id": "ded3b45f-fd01-4157-bef0-e069efb489a2",
   "metadata": {},
   "outputs": [],
   "source": [
    "# from....import statements\n",
    "\n",
    "from math import pi\n",
    "\n",
    "print(pi)"
   ]
  },
  {
   "cell_type": "code",
   "execution_count": null,
   "id": "f9971440-93f3-45ce-bf8c-36ee9408538b",
   "metadata": {},
   "outputs": [],
   "source": [
    "from math import *\n",
    "\n",
    "print(pi)"
   ]
  },
  {
   "cell_type": "markdown",
   "id": "0bfdd0f4-b931-426a-9497-ce866f340f93",
   "metadata": {},
   "source": [
    "FILE OPERATIONS"
   ]
  },
  {
   "cell_type": "code",
   "execution_count": null,
   "id": "0202d1db-5158-4c7b-adca-176ea1f99fd7",
   "metadata": {},
   "outputs": [],
   "source": [
    "# creating a new file\n",
    "\n",
    "f = open(\"check.txt\", 'x')\n",
    "\n",
    "f.close()"
   ]
  },
  {
   "cell_type": "code",
   "execution_count": null,
   "id": "6f7b83f3-4bf7-424d-89a1-02342389e01b",
   "metadata": {},
   "outputs": [],
   "source": [
    "dir(f)"
   ]
  },
  {
   "cell_type": "code",
   "execution_count": null,
   "id": "3ebeae60-9ee5-4b13-882a-1cbaaf205f30",
   "metadata": {},
   "outputs": [],
   "source": [
    "# opening a file\n",
    "\n",
    "f = open(\"check.txt\")  # default mode is read\n",
    "\n",
    "f.close()"
   ]
  },
  {
   "cell_type": "code",
   "execution_count": null,
   "id": "75587cc1-d17b-4168-92d8-2446270624dc",
   "metadata": {},
   "outputs": [],
   "source": [
    "# opening a file in read mode\n",
    "\n",
    "f = open(\"check.txt\",'r')"
   ]
  },
  {
   "cell_type": "code",
   "execution_count": null,
   "id": "a92543cb-6d30-48ac-9418-ef348da43587",
   "metadata": {},
   "outputs": [],
   "source": [
    "f.readline() # this reads the first line of your text"
   ]
  },
  {
   "cell_type": "code",
   "execution_count": null,
   "id": "80dfea8c-46fb-41ca-a3f3-182387ba5ae9",
   "metadata": {},
   "outputs": [],
   "source": [
    "f.tell() # tell() tells the location of the cursor"
   ]
  },
  {
   "cell_type": "code",
   "execution_count": null,
   "id": "6b5f29cc-a472-41d6-a298-c99a1c2156e9",
   "metadata": {},
   "outputs": [],
   "source": [
    "f.read()"
   ]
  },
  {
   "cell_type": "code",
   "execution_count": null,
   "id": "4c1d396f-bc48-4055-a322-b15e292431e3",
   "metadata": {},
   "outputs": [],
   "source": [
    "f.seek(0)  # seek() will move cursor back to the beginning"
   ]
  },
  {
   "cell_type": "code",
   "execution_count": null,
   "id": "ab85b522-cdcb-44df-bbbc-e7ed78261ec2",
   "metadata": {},
   "outputs": [],
   "source": [
    "x = f.readlines() # reads all lines within the text\n",
    "x"
   ]
  },
  {
   "cell_type": "code",
   "execution_count": null,
   "id": "059527ad-fce1-4de3-aa09-8512f0baecf9",
   "metadata": {},
   "outputs": [],
   "source": [
    "f.seek(0)"
   ]
  },
  {
   "cell_type": "code",
   "execution_count": null,
   "id": "fa172404-0911-4869-99a7-109a3852746e",
   "metadata": {},
   "outputs": [],
   "source": [
    "for line in f:\n",
    "    print(line, end = '')"
   ]
  },
  {
   "cell_type": "code",
   "execution_count": null,
   "id": "599699e0-0c20-472f-8d77-b0331c0af4a1",
   "metadata": {},
   "outputs": [],
   "source": [
    "f.close()"
   ]
  },
  {
   "cell_type": "code",
   "execution_count": null,
   "id": "34107dbd-a7c4-4a89-a108-ff22cd5eb00d",
   "metadata": {},
   "outputs": [],
   "source": []
  }
 ],
 "metadata": {
  "kernelspec": {
   "display_name": "Python 3 (ipykernel)",
   "language": "python",
   "name": "python3"
  },
  "language_info": {
   "codemirror_mode": {
    "name": "ipython",
    "version": 3
   },
   "file_extension": ".py",
   "mimetype": "text/x-python",
   "name": "python",
   "nbconvert_exporter": "python",
   "pygments_lexer": "ipython3",
   "version": "3.13.5"
  }
 },
 "nbformat": 4,
 "nbformat_minor": 5
}
