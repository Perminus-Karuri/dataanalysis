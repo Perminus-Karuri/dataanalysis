{
 "cells": [
  {
   "cell_type": "markdown",
   "id": "cc2c78ba-9bcb-4f23-a537-c739a4a41675",
   "metadata": {},
   "source": [
    "**PANDAS INTRODUCTION**"
   ]
  },
  {
   "cell_type": "code",
   "execution_count": 1,
   "id": "3cbf3ae2-027b-464c-8f24-d91532cf4fcc",
   "metadata": {},
   "outputs": [],
   "source": [
    "'''pandas is built on top of NumPy\n",
    "\n",
    "Helps to create ds such as series and dataframe and it comes with functions which helps to efficiently\n",
    "perform data munging tasks \n",
    "\n",
    "data munging tasks involves the conversion of raw data from one form to another\n",
    "\n",
    "Dataframes are essentially multi-dimensional arrays with attached row and columns labels and often\n",
    "with heterogenous data types and/or missing data\n",
    " \n",
    "Pandas package can read data from different sources like excel,sql,SAS,SPSS and many more\n",
    "\n",
    "Pandas dataframe can be converted into different formats like excel, sql, SAS, SPSS and hence\n",
    "it gives us the option of efficient storage\n",
    "\n",
    "Pandas implements a number of powerful data operations familiar to users of both database frameworks\n",
    "and spreadsheet programs'''"
   ]
  },
  {
   "cell_type": "markdown",
   "id": "d56745f3-aba9-477f-a33c-412abafd9f87",
   "metadata": {},
   "source": [
    "**Pandas Series**"
   ]
  },
  {
   "cell_type": "markdown",
   "id": "68bfc9cb-5b93-4a10-bda1-dd891af3c732",
   "metadata": {},
   "source": [
    "**Pandas series**\n",
    "a data structure with one-multi-dimensional labeled array capable of holding any data type e.g. integers, strings, floating point numbers, python objects etc"
   ]
  },
  {
   "cell_type": "code",
   "execution_count": 2,
   "id": "16b2bf2c-d151-498f-b4bf-683ee16efd33",
   "metadata": {},
   "outputs": [],
   "source": [
    "# creating a series using a pandas pd.series\n",
    "\n",
    "import numpy as np\n",
    "import pandas as pd\n",
    "\n",
    "Marks_arr = np.random.randint(35, 100, 6)\n",
    "\n",
    "Marks = [80,93,77,85,75,77]\n",
    "\n",
    "Subjects = ['English', 'Maths', 'Social', 'Science', 'Lang1', 'Lang2']"
   ]
  },
  {
   "cell_type": "code",
   "execution_count": 3,
   "id": "5f010fe8-0a03-4713-b00b-b02f12def588",
   "metadata": {},
   "outputs": [
    {
     "data": {
      "text/plain": [
       "English    80\n",
       "Maths      93\n",
       "Social     77\n",
       "Science    85\n",
       "Lang1      75\n",
       "Lang2      77\n",
       "dtype: int64"
      ]
     },
     "execution_count": 3,
     "metadata": {},
     "output_type": "execute_result"
    }
   ],
   "source": [
    "# pd.Series(data = Marks_arr)\n",
    "\n",
    "# pd.Series(data = Marks_arr, index = Subjects)\n",
    "\n",
    "Score = pd.Series(Marks, Subjects)\n",
    "Score"
   ]
  },
  {
   "cell_type": "code",
   "execution_count": 4,
   "id": "00ef39ba-f90c-4074-8807-8f6611a62d0f",
   "metadata": {},
   "outputs": [
    {
     "data": {
      "text/plain": [
       "pandas.core.series.Series"
      ]
     },
     "execution_count": 4,
     "metadata": {},
     "output_type": "execute_result"
    }
   ],
   "source": [
    "type(Score)"
   ]
  },
  {
   "cell_type": "markdown",
   "id": "73f078b6-86ad-4c00-a088-897d06567b60",
   "metadata": {},
   "source": [
    "**Attributes of a series**"
   ]
  },
  {
   "cell_type": "code",
   "execution_count": 5,
   "id": "b9615718-e81b-45fb-93be-68e2d0c14436",
   "metadata": {},
   "outputs": [
    {
     "name": "stdout",
     "output_type": "stream",
     "text": [
      "Length of a series : 6\n",
      "Shape of a series : (6,)\n",
      "Series value count : 6\n",
      "Value in a series : [80 93 77 85 75 77]\n",
      "Unique values in a series: [80 93 77 85 75]\n",
      "Index of a series: Index(['English', 'Maths', 'Social', 'Science', 'Lang1', 'Lang2'], dtype='object')\n",
      "Count of each value in a series:\n",
      " 77    2\n",
      "80    1\n",
      "93    1\n",
      "85    1\n",
      "75    1\n",
      "Name: count, dtype: int64\n"
     ]
    }
   ],
   "source": [
    "print(\"Length of a series :\", len(Score))\n",
    "\n",
    "print(\"Shape of a series :\", Score.shape)\n",
    "\n",
    "print(\"Series value count :\", Score.count())\n",
    "\n",
    "print(\"Value in a series :\", Score.values)\n",
    "\n",
    "print(\"Unique values in a series:\", Score.unique())\n",
    "\n",
    "print(\"Index of a series:\", Score.index)\n",
    "\n",
    "print(\"Count of each value in a series:\\n\", Score.value_counts())"
   ]
  },
  {
   "cell_type": "markdown",
   "id": "3aea5a9c-5846-4537-bd69-5cf0120c32fa",
   "metadata": {},
   "source": [
    "**Accessing values in a series**"
   ]
  },
  {
   "cell_type": "code",
   "execution_count": 6,
   "id": "19ca0cb9-aa55-43bd-9e61-8edb29ea5525",
   "metadata": {},
   "outputs": [],
   "source": [
    "result = {'Physics':90, 'Chemistry':89, 'Mathematics':87, 'Computer':45, 'Electronics':90}"
   ]
  },
  {
   "cell_type": "code",
   "execution_count": 7,
   "id": "854a3751-7b2f-4d84-83f3-0956bc9d6ee9",
   "metadata": {},
   "outputs": [
    {
     "data": {
      "text/plain": [
       "Physics        90\n",
       "Chemistry      89\n",
       "Mathematics    87\n",
       "Computer       45\n",
       "Electronics    90\n",
       "dtype: int64"
      ]
     },
     "execution_count": 7,
     "metadata": {},
     "output_type": "execute_result"
    }
   ],
   "source": [
    "Final_result = pd.Series(result)  # creating a series using a dictionary\n",
    "Final_result"
   ]
  },
  {
   "cell_type": "code",
   "execution_count": 35,
   "id": "df6ae544-324e-4fd4-95e5-6390149125a5",
   "metadata": {},
   "outputs": [
    {
     "name": "stdout",
     "output_type": "stream",
     "text": [
      "90\n",
      "87\n",
      "90\n",
      "76\n",
      "\n",
      "\n",
      "Mathematics    87\n",
      "Computer       76\n",
      "Electronics    90\n",
      "dtype: int64\n",
      "\n",
      "\n",
      "Physics      90\n",
      "Chemistry    89\n",
      "dtype: int64\n",
      "\n",
      "\n",
      "Physics        90\n",
      "Chemistry      89\n",
      "Mathematics    87\n",
      "dtype: int64\n",
      "\n",
      "\n",
      "Electronics    90\n",
      "Computer       76\n",
      "Mathematics    87\n",
      "Chemistry      89\n",
      "Physics        90\n",
      "dtype: int64\n",
      "\n",
      "\n",
      "Physics        90\n",
      "Chemistry      89\n",
      "Mathematics    87\n",
      "Computer       76\n",
      "Electronics    90\n",
      "dtype: int64\n",
      "\n",
      "\n",
      "The mean value is: 86.4\n",
      "\n",
      "\n",
      "Physics        90\n",
      "Chemistry      89\n",
      "Mathematics    87\n",
      "Computer       76\n",
      "dtype: int64\n"
     ]
    }
   ],
   "source": [
    "print(Final_result['Physics']) # accessing 'phys' internal score\n",
    "print(Final_result['Mathematics'])\n",
    "print(Final_result['Electronics'])\n",
    "print(Final_result.iloc[3]) # accessing values using index\n",
    "print('\\n')\n",
    "print(Final_result.iloc[[2, 3, 4]]) # accessing using a list of indices\n",
    "print('\\n')\n",
    "print(Final_result[0:2]) # slicing a series\n",
    "print('\\n')\n",
    "print(Final_result['Physics':'Mathematics']) # slicing a series using names\n",
    "print('\\n')\n",
    "print(Final_result[::-1]) # reversing a series\n",
    "print('\\n')\n",
    "Final_result['Computer'] = 76 # changing values within a series\n",
    "print(Final_result)\n",
    "print('\\n')\n",
    "print('The mean value is:', Final_result.mean()) # finding the mean value in a series\n",
    "print('\\n')\n",
    "del(Final_result['Electronics']) # deleting a value in a series\n",
    "print(Final_result)"
   ]
  },
  {
   "cell_type": "code",
   "execution_count": 48,
   "id": "6638b445-614a-4de9-8c4b-d6b363361138",
   "metadata": {},
   "outputs": [
    {
     "name": "stdout",
     "output_type": "stream",
     "text": [
      "Phy     25\n",
      "Chem    26\n",
      "Math    27\n",
      "dtype: int64\n"
     ]
    }
   ],
   "source": [
    "# adding 2 series together\n",
    "\n",
    "Internal1 = pd.Series([25,26,27], ['Phy', 'Chem', 'Math'])\n",
    "\n",
    "print(Internal1)"
   ]
  },
  {
   "cell_type": "code",
   "execution_count": 49,
   "id": "6b16596b-98bf-4d17-9e4f-33d77a0fd308",
   "metadata": {},
   "outputs": [
    {
     "data": {
      "text/plain": [
       "Phy     20.0\n",
       "Math    21.0\n",
       "Comp     NaN\n",
       "dtype: float64"
      ]
     },
     "execution_count": 49,
     "metadata": {},
     "output_type": "execute_result"
    }
   ],
   "source": [
    "Internal2 = pd.Series([20,21,np.nan], ['Phy', 'Math', 'Comp'])\n",
    "\n",
    "'''np.nan means Not a number and is a member of a numeric data type that can be interpreted as\n",
    "a value that is undefined or unrepresentable'''\n",
    "\n",
    "Internal2"
   ]
  },
  {
   "cell_type": "code",
   "execution_count": 52,
   "id": "8ed3c350-f648-4316-84d7-ee23ce182e8d",
   "metadata": {},
   "outputs": [
    {
     "data": {
      "text/plain": [
       "Chem    26.0\n",
       "Comp     NaN\n",
       "Math    48.0\n",
       "Phy     45.0\n",
       "dtype: float64"
      ]
     },
     "execution_count": 52,
     "metadata": {},
     "output_type": "execute_result"
    }
   ],
   "source": [
    "# Internal_sum = Internal1 + Internal2 # adding two series\n",
    "\n",
    "Internal_sum = Internal1.add(Internal2, fill_value = 0) # adding 2 series\n",
    "\n",
    "Internal_sum"
   ]
  },
  {
   "cell_type": "code",
   "execution_count": 53,
   "id": "4d75bd64-c9ef-4265-9cab-50a00b73fe2c",
   "metadata": {},
   "outputs": [
    {
     "data": {
      "text/plain": [
       "Chem    13.0\n",
       "Comp     NaN\n",
       "Math    24.0\n",
       "Phy     22.5\n",
       "dtype: float64"
      ]
     },
     "execution_count": 53,
     "metadata": {},
     "output_type": "execute_result"
    }
   ],
   "source": [
    "# average of 2 internals\n",
    "\n",
    "Internal_sum / 2"
   ]
  },
  {
   "cell_type": "code",
   "execution_count": null,
   "id": "267830b1-e295-4d0a-886a-5d7cbb1323a5",
   "metadata": {},
   "outputs": [],
   "source": []
  }
 ],
 "metadata": {
  "kernelspec": {
   "display_name": "Python 3 (ipykernel)",
   "language": "python",
   "name": "python3"
  },
  "language_info": {
   "codemirror_mode": {
    "name": "ipython",
    "version": 3
   },
   "file_extension": ".py",
   "mimetype": "text/x-python",
   "name": "python",
   "nbconvert_exporter": "python",
   "pygments_lexer": "ipython3",
   "version": "3.13.5"
  }
 },
 "nbformat": 4,
 "nbformat_minor": 5
}
