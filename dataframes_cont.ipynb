{
 "cells": [
  {
   "cell_type": "code",
   "execution_count": null,
   "id": "95e7d6fd-166a-41b8-a34d-f16d3dc1ea16",
   "metadata": {},
   "outputs": [],
   "source": []
  }
 ],
 "metadata": {
  "kernelspec": {
   "display_name": "",
   "name": ""
  },
  "language_info": {
   "name": ""
  }
 },
 "nbformat": 4,
 "nbformat_minor": 5
}
