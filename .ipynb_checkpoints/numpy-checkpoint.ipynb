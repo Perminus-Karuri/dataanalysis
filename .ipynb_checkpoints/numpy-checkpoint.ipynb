{
 "cells": [
  {
   "cell_type": "markdown",
   "id": "66d6e26d-f6d5-41f2-a3f1-56a621fe33cb",
   "metadata": {},
   "source": [
    "**ARRAY - ds consisting of elements each identified by at least one array index or key**"
   ]
  },
  {
   "cell_type": "markdown",
   "id": "2a1015ae-6d3f-4b2e-bef8-e381ee14ba3e",
   "metadata": {},
   "source": [
    "Numpy - fundamental package for scientific computing in python\n",
    "      - stores list of numerical vectors andmatrices in the form of arrays\n",
    "      - the NumPy package has a large set of routines (built-in fns) for creating, manipulating and transforming NumPy arrays"
   ]
  },
  {
   "cell_type": "code",
   "execution_count": 1,
   "id": "4ec5cb7c-8378-4e50-9b17-90599d8bed4e",
   "metadata": {},
   "outputs": [
    {
     "data": {
      "text/plain": [
       "array([1, 2, 3, 4])"
      ]
     },
     "execution_count": 1,
     "metadata": {},
     "output_type": "execute_result"
    }
   ],
   "source": [
    "# Creating a one dimensional array using a list\n",
    "# using numpy.array() function\n",
    "\n",
    "import numpy as np\n",
    "\n",
    "my_list = [1,2,3,4]\n",
    "\n",
    "Oned_arr = np.array(my_list)\n",
    "\n",
    "Oned_arr #one dimensional array"
   ]
  },
  {
   "cell_type": "code",
   "execution_count": 2,
   "id": "82d52bef-86b5-4bda-a560-9be4bccb4f3d",
   "metadata": {},
   "outputs": [
    {
     "data": {
      "text/plain": [
       "array([1, 2, 3, 4], dtype=int32)"
      ]
     },
     "execution_count": 2,
     "metadata": {},
     "output_type": "execute_result"
    }
   ],
   "source": [
    "Oned_arr = np.array(my_list, dtype = 'int32')\n",
    "\n",
    "Oned_arr"
   ]
  },
  {
   "cell_type": "code",
   "execution_count": 3,
   "id": "b66c6824-c6eb-452f-8deb-300f8d70f5d8",
   "metadata": {},
   "outputs": [
    {
     "name": "stdout",
     "output_type": "stream",
     "text": [
      "Array: [1 2 3 4]\n",
      "Data type: <class 'numpy.ndarray'>\n",
      "Shape of an array: (4,)\n",
      "Size of each value in an array in bytes: 4\n",
      "Total no of bytes of an array: 16\n",
      "Data type of an array: int32\n",
      "Dimension of an array: 1\n"
     ]
    }
   ],
   "source": [
    "# atrributes of an array\n",
    "\n",
    "print(\"Array:\", Oned_arr)\n",
    "\n",
    "print(\"Data type:\", type(Oned_arr))\n",
    "\n",
    "print(\"Shape of an array:\", Oned_arr.shape) # the shape of an array is similar to an order of a matrix\n",
    "\n",
    "print(\"Size of each value in an array in bytes:\", Oned_arr.itemsize)\n",
    "\n",
    "print(\"Total no of bytes of an array:\", Oned_arr.nbytes)\n",
    "\n",
    "print(\"Data type of an array:\", Oned_arr.dtype)\n",
    "\n",
    "print(\"Dimension of an array:\", Oned_arr.ndim)\n",
    "\n",
    "# here the shape (4,) means the array is indexed by a single index which runs from 0 to 4"
   ]
  },
  {
   "cell_type": "code",
   "execution_count": 4,
   "id": "9384736e-ab57-49e2-ae09-cb6528850a52",
   "metadata": {},
   "outputs": [
    {
     "name": "stdout",
     "output_type": "stream",
     "text": [
      "The array is \n",
      "1 2 3 4 "
     ]
    }
   ],
   "source": [
    "# printing the values of a 1-dimensional array using a for loop\n",
    "\n",
    "print(\"The array is \")\n",
    "\n",
    "for i in Oned_arr:\n",
    "\n",
    "    print(i, end = ' ')"
   ]
  },
  {
   "cell_type": "code",
   "execution_count": 5,
   "id": "baceb209-7eb2-4a23-b490-bed187b7fb47",
   "metadata": {},
   "outputs": [
    {
     "name": "stdout",
     "output_type": "stream",
     "text": [
      "[1, 2, 3, 4]\n",
      "<class 'list'>\n"
     ]
    }
   ],
   "source": [
    "# converting a 1-dimensional array to a list\n",
    "\n",
    "Oned_arr = Oned_arr.tolist()\n",
    "\n",
    "print(Oned_arr)\n",
    "\n",
    "print(type(Oned_arr))"
   ]
  },
  {
   "cell_type": "code",
   "execution_count": 6,
   "id": "9a509a35-3251-4ee4-a302-467b122b0004",
   "metadata": {},
   "outputs": [
    {
     "data": {
      "text/plain": [
       "array([[1, 2, 3],\n",
       "       [4, 5, 6],\n",
       "       [7, 8, 9]], dtype=int32)"
      ]
     },
     "execution_count": 6,
     "metadata": {},
     "output_type": "execute_result"
    }
   ],
   "source": [
    "# creating a 2D array \n",
    "\n",
    "my_mat = [[1,2,3],[4,5,6],[7,8,9]]\n",
    "\n",
    "array_2D = np.array(my_mat, dtype = 'int32')\n",
    "\n",
    "array_2D"
   ]
  },
  {
   "cell_type": "code",
   "execution_count": 7,
   "id": "84f7e6b8-d146-4f6c-88f0-18e817b2f6b1",
   "metadata": {},
   "outputs": [
    {
     "name": "stdout",
     "output_type": "stream",
     "text": [
      "Array: [[1 2 3]\n",
      " [4 5 6]\n",
      " [7 8 9]]\n",
      "Data type: <class 'numpy.ndarray'>\n",
      "Shape of an array: (3, 3)\n",
      "Size of each value in an array in bytes: 4\n",
      "Total no of bytes of an array: 36\n",
      "Data type of an array: int32\n",
      "Dimension of an array: 2\n"
     ]
    }
   ],
   "source": [
    "# atrributes of an array\n",
    "\n",
    "print(\"Array:\", array_2D)\n",
    "\n",
    "print(\"Data type:\", type(array_2D))\n",
    "\n",
    "print(\"Shape of an array:\", array_2D.shape) #the shape of an array is a tuple of integers giving the size of the array along each dimension.\n",
    "\n",
    "print(\"Size of each value in an array in bytes:\", array_2D.itemsize)\n",
    "\n",
    "print(\"Total no of bytes of an array:\", array_2D.nbytes)\n",
    "\n",
    "print(\"Data type of an array:\", array_2D.dtype)\n",
    "\n",
    "print(\"Dimension of an array:\", array_2D.ndim) # it is a 2D array since it requires the index of a row and column to access any element."
   ]
  },
  {
   "cell_type": "code",
   "execution_count": 8,
   "id": "f6bb1697-42eb-4483-a3da-3a0bd887bbab",
   "metadata": {},
   "outputs": [
    {
     "name": "stdout",
     "output_type": "stream",
     "text": [
      "1 2 3 \n",
      "4 5 6 \n",
      "7 8 9 \n"
     ]
    }
   ],
   "source": [
    "# looping through a 2D array\n",
    "\n",
    "lst = []\n",
    "\n",
    "for i in array_2D:\n",
    "    for j in i:\n",
    "        print(j, end = ' ')\n",
    "    print() # gives an empty line as an output"
   ]
  },
  {
   "cell_type": "code",
   "execution_count": 9,
   "id": "4043202f-a7fc-4360-b457-ec2fc570b0ce",
   "metadata": {},
   "outputs": [
    {
     "name": "stdout",
     "output_type": "stream",
     "text": [
      "[[1, 2, 3], [4, 5, 6], [7, 8, 9]]\n",
      "<class 'list'>\n"
     ]
    }
   ],
   "source": [
    "# converting a 2D array to a list using a .tolist() fn\n",
    "array_2D = array_2D.tolist()\n",
    "\n",
    "print(array_2D)\n",
    "\n",
    "print(type(array_2D))"
   ]
  },
  {
   "cell_type": "code",
   "execution_count": 10,
   "id": "a1b65876-0f6e-4dd0-8da3-2daccbb371bf",
   "metadata": {},
   "outputs": [
    {
     "name": "stdout",
     "output_type": "stream",
     "text": [
      "[0 1 2 3 4 5]\n"
     ]
    }
   ],
   "source": [
    "# creating an array using a numpy .arange() fn\n",
    "\n",
    "a_range = np.arange(6)\n",
    "\n",
    "print(a_range)"
   ]
  },
  {
   "cell_type": "code",
   "execution_count": 11,
   "id": "961fc033-ee68-4dd9-8472-51ba615617cc",
   "metadata": {},
   "outputs": [
    {
     "name": "stdout",
     "output_type": "stream",
     "text": [
      "[ 0  2  4  6  8 10]\n"
     ]
    }
   ],
   "source": [
    "a_range1 = np.arange(0,11,2)\n",
    "\n",
    "print(a_range1)"
   ]
  },
  {
   "cell_type": "code",
   "execution_count": 12,
   "id": "a5c09d49-73db-4460-a0a6-397cd6dd7455",
   "metadata": {},
   "outputs": [
    {
     "name": "stdout",
     "output_type": "stream",
     "text": [
      "[[0 1]\n",
      " [2 3]\n",
      " [4 5]] \n",
      "\n"
     ]
    }
   ],
   "source": [
    "# reshaping an array using the .reshape() fn\n",
    "\n",
    "array = np.arange(6).reshape(3, 2) #3 rows and 2 columns\n",
    "\n",
    "print(array, \"\\n\")"
   ]
  },
  {
   "cell_type": "code",
   "execution_count": 13,
   "id": "3de7ed87-d240-40f8-8875-36fb047d4ab0",
   "metadata": {},
   "outputs": [
    {
     "name": "stdout",
     "output_type": "stream",
     "text": [
      "[[[0 1]\n",
      "  [2 3]]\n",
      "\n",
      " [[4 5]\n",
      "  [6 7]]]\n"
     ]
    }
   ],
   "source": [
    "# constructing a 3D array\n",
    "\n",
    "array = np.arange(8).reshape(2,2,2)\n",
    "\n",
    "print(array)"
   ]
  },
  {
   "cell_type": "code",
   "execution_count": 14,
   "id": "a4896b10-d5d8-4cd4-82fe-656e3008281e",
   "metadata": {},
   "outputs": [
    {
     "name": "stdout",
     "output_type": "stream",
     "text": [
      "[[[ 0  2]\n",
      "  [ 4  6]]\n",
      "\n",
      " [[ 8 10]\n",
      "  [12 14]]] \n",
      "\n",
      "[ 0  2  4  6  8 10 12 14]\n",
      "(8,)\n",
      "1 \n",
      "\n"
     ]
    }
   ],
   "source": [
    "z = np.arange(0, 16, 2).reshape(2,2,2)\n",
    "print(z, \"\\n\")\n",
    "\n",
    "z = z.reshape(-1)  # creates a 1D array\n",
    "print(z)\n",
    "print(z.shape)\n",
    "print(z.ndim, \"\\n\")"
   ]
  },
  {
   "cell_type": "code",
   "execution_count": 15,
   "id": "800c4300-88bb-4419-8c1b-145563a34a93",
   "metadata": {},
   "outputs": [
    {
     "name": "stdout",
     "output_type": "stream",
     "text": [
      "[[[ 0  2]\n",
      "  [ 4  6]]\n",
      "\n",
      " [[ 8 10]\n",
      "  [12 14]]] \n",
      "\n",
      "[[ 0  2  4  6  8 10 12 14]]\n",
      "(1, 8)\n",
      "2 \n",
      "\n"
     ]
    }
   ],
   "source": [
    "z = np.arange(0, 16, 2).reshape(2,2,2)\n",
    "print(z, \"\\n\")\n",
    "\n",
    "z = z.reshape(1, -1)  # creates a 2D array with a single row\n",
    "print(z)\n",
    "print(z.shape)\n",
    "print(z.ndim, \"\\n\")"
   ]
  },
  {
   "cell_type": "code",
   "execution_count": 16,
   "id": "1794f5af-4c81-40f3-8ed5-cfb2174ce216",
   "metadata": {},
   "outputs": [
    {
     "name": "stdout",
     "output_type": "stream",
     "text": [
      "[[[ 0  2]\n",
      "  [ 4  6]]\n",
      "\n",
      " [[ 8 10]\n",
      "  [12 14]]] \n",
      "\n",
      "[[ 0]\n",
      " [ 2]\n",
      " [ 4]\n",
      " [ 6]\n",
      " [ 8]\n",
      " [10]\n",
      " [12]\n",
      " [14]]\n",
      "(8, 1)\n",
      "2 \n",
      "\n"
     ]
    }
   ],
   "source": [
    "z = np.arange(0, 16, 2).reshape(2,2,2)\n",
    "print(z, \"\\n\")\n",
    "\n",
    "z = z.reshape(-1, 1)  # creates a 2D array with a single row\n",
    "print(z)\n",
    "print(z.shape)\n",
    "print(z.ndim, \"\\n\")"
   ]
  },
  {
   "cell_type": "code",
   "execution_count": 17,
   "id": "9eb0911c-58cf-4c02-a730-5a3864179847",
   "metadata": {},
   "outputs": [
    {
     "data": {
      "text/plain": [
       "99"
      ]
     },
     "execution_count": 17,
     "metadata": {},
     "output_type": "execute_result"
    }
   ],
   "source": [
    "# Creating different types of arrays\n",
    "\n",
    "import numpy as np\n",
    "\n",
    "np.random.randint(1, 100) # generating a ranfom integer between 1 and 100"
   ]
  },
  {
   "cell_type": "code",
   "execution_count": 18,
   "id": "6813e871-a50e-4008-88ce-4040ae7cafc3",
   "metadata": {},
   "outputs": [
    {
     "name": "stdout",
     "output_type": "stream",
     "text": [
      "************One dimensional********\n",
      "\n",
      "[67 15 38 88 88 59 55 57 50 54] \n",
      "\n",
      "************Two dimensional********\n",
      "\n",
      "[[48 78 10 67]\n",
      " [48 33 89 93]\n",
      " [ 5 66 11 53]] \n",
      "\n"
     ]
    }
   ],
   "source": [
    "print(\"************One dimensional********\\n\")\n",
    "\n",
    "print(np.random.randint(1, 100, size = 10), \"\\n\") # will have a shape of 10\n",
    "\n",
    "print(\"************Two dimensional********\\n\")\n",
    "\n",
    "print(np.random.randint(1, 100, size = (3,4)), \"\\n\") # 2D array with a shape of (3,4)"
   ]
  },
  {
   "cell_type": "code",
   "execution_count": 19,
   "id": "1c4f2eec-b0c8-4aab-a40d-c279a5c9f054",
   "metadata": {},
   "outputs": [
    {
     "name": "stdout",
     "output_type": "stream",
     "text": [
      "************Three dimensional********\n",
      "\n",
      "[[[10 42]\n",
      "  [95 92]]\n",
      "\n",
      " [[22 22]\n",
      "  [29 80]]\n",
      "\n",
      " [[45 68]\n",
      "  [23 21]]] \n",
      "\n",
      "************Four dimensional********\n",
      "\n",
      "[[[[41 26 32 ... 32 82 93]\n",
      "   [53 81 76 ... 34 34  1]\n",
      "   [96 67 72 ... 97 99 91]\n",
      "   ...\n",
      "   [81 51 63 ... 10 24 29]\n",
      "   [23 96 90 ... 86 46 75]\n",
      "   [18 11  6 ... 95 67 89]]\n",
      "\n",
      "  [[14 96 25 ... 65  7 78]\n",
      "   [ 4 17  7 ... 88 80 97]\n",
      "   [75 84 37 ... 30 94 13]\n",
      "   ...\n",
      "   [90 32 41 ... 99  4 49]\n",
      "   [ 7 39 43 ... 52 99 33]\n",
      "   [90 95 91 ... 52 81 99]]\n",
      "\n",
      "  [[43 14 87 ... 95 61 23]\n",
      "   [42 54 32 ... 15 48 48]\n",
      "   [45 79 62 ... 40 19 86]\n",
      "   ...\n",
      "   [65 60 32 ... 46 25 12]\n",
      "   [ 7 96 31 ... 85 20 17]\n",
      "   [39 68  1 ...  3 78 83]]]\n",
      "\n",
      "\n",
      " [[[88 27 75 ... 31 55 98]\n",
      "   [89 97 96 ... 28 55 22]\n",
      "   [37 48 53 ... 70 19 83]\n",
      "   ...\n",
      "   [91 40 95 ... 95 34 68]\n",
      "   [36 69 73 ... 22 40 67]\n",
      "   [29 60 89 ... 21 80 97]]\n",
      "\n",
      "  [[11 63 20 ... 47  5 87]\n",
      "   [73 92 98 ... 12 37 13]\n",
      "   [19 46 47 ... 32 31 25]\n",
      "   ...\n",
      "   [70 62 54 ... 87 79 80]\n",
      "   [13 53 30 ... 72 29 32]\n",
      "   [78 23 98 ... 17 60 41]]\n",
      "\n",
      "  [[59 88 12 ... 49 48  1]\n",
      "   [60 59 52 ... 27 97 16]\n",
      "   [38  2 41 ... 43 33 33]\n",
      "   ...\n",
      "   [74 87 39 ... 41 92 32]\n",
      "   [19  5 11 ... 69 68 42]\n",
      "   [57 90 90 ... 39 18 50]]]\n",
      "\n",
      "\n",
      " [[[88 16 95 ... 30 96 19]\n",
      "   [68 38 61 ... 51 49 33]\n",
      "   [44 39 49 ... 38 48 60]\n",
      "   ...\n",
      "   [74 94 73 ... 80 22 99]\n",
      "   [ 6 91 61 ... 64  4 78]\n",
      "   [98  7 26 ... 64 11 88]]\n",
      "\n",
      "  [[27 27 74 ... 59 80 67]\n",
      "   [16 13 47 ...  8 98 64]\n",
      "   [37 92 66 ... 75  1 27]\n",
      "   ...\n",
      "   [85 11 78 ...  5 72 99]\n",
      "   [63 71 71 ... 68 11 34]\n",
      "   [90 59 32 ...  3 60  4]]\n",
      "\n",
      "  [[76 63 44 ... 66 97 20]\n",
      "   [65  7 47 ... 40 12  5]\n",
      "   [90 33 64 ... 62 88 78]\n",
      "   ...\n",
      "   [11 47 45 ... 92 29 63]\n",
      "   [31  2 78 ... 16 70 33]\n",
      "   [35 97 91 ...  2 26 76]]]\n",
      "\n",
      "\n",
      " [[[49 44 96 ... 93  8 50]\n",
      "   [36 75 21 ... 78 78 11]\n",
      "   [63 45 64 ... 48 60 49]\n",
      "   ...\n",
      "   [61 65 38 ...  6  3 88]\n",
      "   [68 12 95 ... 38 53 26]\n",
      "   [12 56 33 ... 31 19 79]]\n",
      "\n",
      "  [[98 79 13 ... 91 16 20]\n",
      "   [32 26 33 ... 74  1 62]\n",
      "   [40 12 59 ... 66 76 53]\n",
      "   ...\n",
      "   [56 43 30 ... 33 76 52]\n",
      "   [56 89 69 ... 69 56 96]\n",
      "   [94  2 47 ...  8 83 68]]\n",
      "\n",
      "  [[97 86 40 ... 75 46 96]\n",
      "   [45 69 51 ... 68 61 22]\n",
      "   [46 12 33 ... 15 42 23]\n",
      "   ...\n",
      "   [92 38 56 ... 53 27 22]\n",
      "   [ 9 18 65 ...  6 81 19]\n",
      "   [51 92 43 ... 46 10 58]]]] \n",
      "\n"
     ]
    }
   ],
   "source": [
    "print(\"************Three dimensional********\\n\")\n",
    "\n",
    "print(np.random.randint(1, 100, size = (3,2,2)), \"\\n\") # will have a shape of (3,2,2)\n",
    "\n",
    "print(\"************Four dimensional********\\n\")\n",
    "\n",
    "print(np.random.randint(1, 100, size = (4,3,32,64)), \"\\n\") # 2D array with a shape of (4,3,32,64)"
   ]
  },
  {
   "cell_type": "code",
   "execution_count": 20,
   "id": "58aa7dcc-6e2f-4c37-9ef9-cfa02545a32b",
   "metadata": {},
   "outputs": [
    {
     "data": {
      "text/plain": [
       "array([0.05680766, 0.42825333, 0.99496262, 0.60723666, 0.09043278])"
      ]
     },
     "execution_count": 20,
     "metadata": {},
     "output_type": "execute_result"
    }
   ],
   "source": [
    "np.random.rand(5)   # creating a 1D array of 5 number between 0 and 1"
   ]
  },
  {
   "cell_type": "code",
   "execution_count": 21,
   "id": "f3bc5556-870a-4d3e-bba4-4ab0616d7853",
   "metadata": {},
   "outputs": [
    {
     "data": {
      "text/plain": [
       "array([[0.17636684, 0.86653319, 0.24488338, 0.22645969, 0.84853424],\n",
       "       [0.94711119, 0.16539523, 0.19383208, 0.33582852, 0.91984533],\n",
       "       [0.42335403, 0.8945061 , 0.16209325, 0.7817538 , 0.9223997 ],\n",
       "       [0.4925482 , 0.70745427, 0.90773741, 0.55854023, 0.45683522],\n",
       "       [0.15140264, 0.31392693, 0.23126317, 0.98994278, 0.79105257]])"
      ]
     },
     "execution_count": 21,
     "metadata": {},
     "output_type": "execute_result"
    }
   ],
   "source": [
    "np.random.rand(5,5)   # creating 2D array of random numbers between 0 and 1 of shape (5,5)"
   ]
  },
  {
   "cell_type": "code",
   "execution_count": 22,
   "id": "0d0e1b2b-8220-499a-9319-0a08cc07b432",
   "metadata": {},
   "outputs": [
    {
     "data": {
      "text/plain": [
       "array([ 0.03020038, -2.44372589,  0.60808447,  1.13339553, -1.44137152,\n",
       "       -0.88733772, -0.44238406, -0.47807271, -0.63259906,  1.72766446])"
      ]
     },
     "execution_count": 22,
     "metadata": {},
     "output_type": "execute_result"
    }
   ],
   "source": [
    "# creating a 1D array of saamples from the \"standard normal\" distribution between 0 and 1\n",
    "\n",
    "np.random.randn(10)"
   ]
  },
  {
   "cell_type": "markdown",
   "id": "2a49300f-7a50-4fc3-8754-7ab1ed05b2fa",
   "metadata": {},
   "source": [
    "FUNCTIONS TO CREATE ARRAYS OF DIFFERENT TYPES"
   ]
  },
  {
   "cell_type": "code",
   "execution_count": 23,
   "id": "39fa0e0a-d8be-4da3-a468-0a9a8ee0f4a8",
   "metadata": {},
   "outputs": [
    {
     "data": {
      "text/plain": [
       "array([0., 0., 0., 0., 0.])"
      ]
     },
     "execution_count": 23,
     "metadata": {},
     "output_type": "execute_result"
    }
   ],
   "source": [
    "np.zeros(5)  # creates a new array of given shape and type, filled with zeros"
   ]
  },
  {
   "cell_type": "code",
   "execution_count": 24,
   "id": "1596b115-148c-4b3c-8ce7-17a5d3495f79",
   "metadata": {},
   "outputs": [
    {
     "data": {
      "text/plain": [
       "array([[0., 0., 0.],\n",
       "       [0., 0., 0.],\n",
       "       [0., 0., 0.]])"
      ]
     },
     "execution_count": 24,
     "metadata": {},
     "output_type": "execute_result"
    }
   ],
   "source": [
    "np.zeros((3,3))"
   ]
  },
  {
   "cell_type": "code",
   "execution_count": 25,
   "id": "0f2f2e32-2362-41d9-8e03-a8c4a3e2480b",
   "metadata": {},
   "outputs": [
    {
     "data": {
      "text/plain": [
       "array([1., 1., 1., 1., 1.])"
      ]
     },
     "execution_count": 25,
     "metadata": {},
     "output_type": "execute_result"
    }
   ],
   "source": [
    "np.ones(5)   #creates an array filled with ones"
   ]
  },
  {
   "cell_type": "code",
   "execution_count": 26,
   "id": "9859bb77-5ce9-4292-bc96-aca1f0b2f6ee",
   "metadata": {},
   "outputs": [
    {
     "data": {
      "text/plain": [
       "array([[1., 1., 1., 1., 1.],\n",
       "       [1., 1., 1., 1., 1.],\n",
       "       [1., 1., 1., 1., 1.],\n",
       "       [1., 1., 1., 1., 1.],\n",
       "       [1., 1., 1., 1., 1.]])"
      ]
     },
     "execution_count": 26,
     "metadata": {},
     "output_type": "execute_result"
    }
   ],
   "source": [
    "np.ones((5,5))"
   ]
  },
  {
   "cell_type": "code",
   "execution_count": 27,
   "id": "48692401-4fd6-4bf9-8e54-1b2af2f120f5",
   "metadata": {},
   "outputs": [
    {
     "data": {
      "text/plain": [
       "array([[1., 0., 0., 0.],\n",
       "       [0., 1., 0., 0.],\n",
       "       [0., 0., 1., 0.],\n",
       "       [0., 0., 0., 1.]])"
      ]
     },
     "execution_count": 27,
     "metadata": {},
     "output_type": "execute_result"
    }
   ],
   "source": [
    "np.eye(4)   # return a 2D array with ones on the diagonal and zeros somewhere"
   ]
  },
  {
   "cell_type": "code",
   "execution_count": 28,
   "id": "f67c3ae0-6616-4d63-a206-66e86e1771ae",
   "metadata": {},
   "outputs": [
    {
     "data": {
      "text/plain": [
       "array([[7, 7, 7],\n",
       "       [7, 7, 7],\n",
       "       [7, 7, 7]])"
      ]
     },
     "execution_count": 28,
     "metadata": {},
     "output_type": "execute_result"
    }
   ],
   "source": [
    "np.full((3,3), 7)  # return a new array filled with a 'filled value'"
   ]
  },
  {
   "cell_type": "code",
   "execution_count": 29,
   "id": "5734eb8b-86cf-4b90-94f7-facc4e3d9475",
   "metadata": {},
   "outputs": [
    {
     "data": {
      "text/plain": [
       "array([[1, 0, 0],\n",
       "       [0, 2, 0],\n",
       "       [0, 0, 3]])"
      ]
     },
     "execution_count": 29,
     "metadata": {},
     "output_type": "execute_result"
    }
   ],
   "source": [
    "np.diag([1,2,3])  # constructs a diagonal array or extract diagonal values of a multi-dimensional"
   ]
  },
  {
   "cell_type": "code",
   "execution_count": 30,
   "id": "2aa544ed-9bdb-498d-a2ba-4915adc998b8",
   "metadata": {},
   "outputs": [
    {
     "data": {
      "text/plain": [
       "array([0.        , 0.55555556, 1.11111111, 1.66666667, 2.22222222,\n",
       "       2.77777778, 3.33333333, 3.88888889, 4.44444444, 5.        ])"
      ]
     },
     "execution_count": 30,
     "metadata": {},
     "output_type": "execute_result"
    }
   ],
   "source": [
    "np.linspace(0,5,10)   # returns an evenly spaced numbers over a specified interval"
   ]
  },
  {
   "cell_type": "markdown",
   "id": "3121b57a-9900-49ca-bd60-4a406becfa0a",
   "metadata": {},
   "source": [
    "**DATA TYPE CONVERSION OF AN ARRAY**"
   ]
  },
  {
   "cell_type": "code",
   "execution_count": 31,
   "id": "eb29df7d-912c-413c-8f64-f390f9fdc2ec",
   "metadata": {},
   "outputs": [],
   "source": [
    "randarr = np.random.randint(0, 100, 10)"
   ]
  },
  {
   "cell_type": "code",
   "execution_count": 32,
   "id": "3d1d903b-50e6-487c-a89b-619c73a1d12f",
   "metadata": {},
   "outputs": [
    {
     "data": {
      "text/plain": [
       "dtype('int32')"
      ]
     },
     "execution_count": 32,
     "metadata": {},
     "output_type": "execute_result"
    }
   ],
   "source": [
    "randarr.dtype"
   ]
  },
  {
   "cell_type": "code",
   "execution_count": 33,
   "id": "fd51866e-596e-4239-a062-8c2016fc0b45",
   "metadata": {},
   "outputs": [
    {
     "data": {
      "text/plain": [
       "array([38, 72, 62, 42, 54,  5, 36, 52, 75, 63])"
      ]
     },
     "execution_count": 33,
     "metadata": {},
     "output_type": "execute_result"
    }
   ],
   "source": [
    "randarr.astype('int64')"
   ]
  },
  {
   "cell_type": "code",
   "execution_count": 34,
   "id": "87f8f632-ba00-453e-966e-89b24e85a256",
   "metadata": {},
   "outputs": [
    {
     "data": {
      "text/plain": [
       "array([38., 72., 62., 42., 54.,  5., 36., 52., 75., 63.])"
      ]
     },
     "execution_count": 34,
     "metadata": {},
     "output_type": "execute_result"
    }
   ],
   "source": [
    "randarr.astype('float64')"
   ]
  },
  {
   "cell_type": "code",
   "execution_count": 35,
   "id": "1a9c6013-ae5e-4d42-ba6c-1c31ec601921",
   "metadata": {},
   "outputs": [
    {
     "data": {
      "text/plain": [
       "array(['38', '72', '62', '42', '54', '5', '36', '52', '75', '63'],\n",
       "      dtype='<U11')"
      ]
     },
     "execution_count": 35,
     "metadata": {},
     "output_type": "execute_result"
    }
   ],
   "source": [
    "randarr.astype('str')"
   ]
  },
  {
   "cell_type": "code",
   "execution_count": 36,
   "id": "5ecb7779-37d1-4091-b37e-45af6e4f5bb4",
   "metadata": {},
   "outputs": [
    {
     "data": {
      "text/plain": [
       "array([38.+0.j, 72.+0.j, 62.+0.j, 42.+0.j, 54.+0.j,  5.+0.j, 36.+0.j,\n",
       "       52.+0.j, 75.+0.j, 63.+0.j])"
      ]
     },
     "execution_count": 36,
     "metadata": {},
     "output_type": "execute_result"
    }
   ],
   "source": [
    "randarr.astype('complex128')"
   ]
  },
  {
   "cell_type": "markdown",
   "id": "f958ca62-2588-4771-8af7-8b26c7496bba",
   "metadata": {},
   "source": [
    "**ACCESSING ARRAY VALUES**"
   ]
  },
  {
   "cell_type": "code",
   "execution_count": 37,
   "id": "86cabd8f-4984-43eb-ba1e-ff0d09c97365",
   "metadata": {},
   "outputs": [
    {
     "data": {
      "text/plain": [
       "array([ 1,  3,  5,  7,  9, 11, 13, 15, 17, 19])"
      ]
     },
     "execution_count": 37,
     "metadata": {},
     "output_type": "execute_result"
    }
   ],
   "source": [
    "# accessing and slicing a 1D array values\n",
    "\n",
    "import numpy as np\n",
    "\n",
    "arr_1D = np.arange(1,20,2)\n",
    "\n",
    "arr_1D"
   ]
  },
  {
   "cell_type": "code",
   "execution_count": 38,
   "id": "34920b74-db67-4b88-9689-37add4ef118f",
   "metadata": {},
   "outputs": [
    {
     "data": {
      "text/plain": [
       "np.int64(17)"
      ]
     },
     "execution_count": 38,
     "metadata": {},
     "output_type": "execute_result"
    }
   ],
   "source": [
    "arr_1D[8]   # array indexing"
   ]
  },
  {
   "cell_type": "code",
   "execution_count": 39,
   "id": "7332b87a-8c75-49e5-9928-5817b47bfa8f",
   "metadata": {},
   "outputs": [
    {
     "data": {
      "text/plain": [
       "np.int64(19)"
      ]
     },
     "execution_count": 39,
     "metadata": {},
     "output_type": "execute_result"
    }
   ],
   "source": [
    "arr_1D[-1]  # negative indexing "
   ]
  },
  {
   "cell_type": "code",
   "execution_count": 40,
   "id": "337b382c-8f89-4ce6-bf7a-da4e36b24f7a",
   "metadata": {},
   "outputs": [
    {
     "data": {
      "text/plain": [
       "array([3, 5, 7, 9])"
      ]
     },
     "execution_count": 40,
     "metadata": {},
     "output_type": "execute_result"
    }
   ],
   "source": [
    "arr_1D[1:5]   # array slicing - but excludes the 5th index"
   ]
  },
  {
   "cell_type": "code",
   "execution_count": 41,
   "id": "1e4a5b16-68ee-4576-b90a-3420ebe39e77",
   "metadata": {},
   "outputs": [
    {
     "data": {
      "text/plain": [
       "array([1, 3, 5, 7, 9])"
      ]
     },
     "execution_count": 41,
     "metadata": {},
     "output_type": "execute_result"
    }
   ],
   "source": [
    "arr_1D[0:5]  # - excludes the 5th index"
   ]
  },
  {
   "cell_type": "code",
   "execution_count": 42,
   "id": "57c1e470-737b-4f3a-8ee4-e175727db57a",
   "metadata": {},
   "outputs": [
    {
     "data": {
      "text/plain": [
       "array([ 1,  3,  5,  7,  9, 11])"
      ]
     },
     "execution_count": 42,
     "metadata": {},
     "output_type": "execute_result"
    }
   ],
   "source": [
    "arr_1D[:6]"
   ]
  },
  {
   "cell_type": "code",
   "execution_count": 43,
   "id": "2afbbca8-da41-4837-b8b6-0fc483111149",
   "metadata": {},
   "outputs": [
    {
     "data": {
      "text/plain": [
       "array([111,   3,   5,   7,   9,  11,  13,  15,  17,  19])"
      ]
     },
     "execution_count": 43,
     "metadata": {},
     "output_type": "execute_result"
    }
   ],
   "source": [
    "arr_1D[0] = 111  # changing an array value\n",
    "arr_1D"
   ]
  },
  {
   "cell_type": "code",
   "execution_count": 44,
   "id": "de0e05aa-b18c-4602-9f9f-648d9be23909",
   "metadata": {},
   "outputs": [
    {
     "data": {
      "text/plain": [
       "array([111,   3,   5,   7,   9, 100, 100, 100, 100, 100])"
      ]
     },
     "execution_count": 44,
     "metadata": {},
     "output_type": "execute_result"
    }
   ],
   "source": [
    "arr_1D[5:] = 100  # changing array values from the 5th index\n",
    "arr_1D"
   ]
  },
  {
   "cell_type": "code",
   "execution_count": 45,
   "id": "f90fc8ac-ba68-4115-9120-e7d66a3a2825",
   "metadata": {},
   "outputs": [
    {
     "data": {
      "text/plain": [
       "array([112,   3,   5,   7,   9, 100, 100, 100, 100, 100])"
      ]
     },
     "execution_count": 45,
     "metadata": {},
     "output_type": "execute_result"
    }
   ],
   "source": [
    "arr_1D[0] = 112.12  # if we add a float value to an array with integer\n",
    "             # values, only the integer part will be included in the list\n",
    "arr_1D"
   ]
  },
  {
   "cell_type": "code",
   "execution_count": 46,
   "id": "c54d92de-31a3-46dd-9244-31cea118b006",
   "metadata": {},
   "outputs": [
    {
     "data": {
      "text/plain": [
       "array([[ 5, 10, 15],\n",
       "       [20, 25, 30],\n",
       "       [35, 40, 45]])"
      ]
     },
     "execution_count": 46,
     "metadata": {},
     "output_type": "execute_result"
    }
   ],
   "source": [
    "# accessing and slicing a 2D array values\n",
    "\n",
    "arr_2D = np.array([[5,10,15],[20,25,30],[35,40,45]])\n",
    "\n",
    "arr_2D"
   ]
  },
  {
   "cell_type": "code",
   "execution_count": 47,
   "id": "c49de58d-1e23-47df-8b9f-4aae44709de1",
   "metadata": {},
   "outputs": [
    {
     "data": {
      "text/plain": [
       "array([ 5, 10, 15])"
      ]
     },
     "execution_count": 47,
     "metadata": {},
     "output_type": "execute_result"
    }
   ],
   "source": [
    "arr_2D[0]  # array indexing"
   ]
  },
  {
   "cell_type": "code",
   "execution_count": 48,
   "id": "ef2d818c-e08b-499d-891a-646fe20238f5",
   "metadata": {},
   "outputs": [
    {
     "data": {
      "text/plain": [
       "np.int64(15)"
      ]
     },
     "execution_count": 48,
     "metadata": {},
     "output_type": "execute_result"
    }
   ],
   "source": [
    "arr_2D[0][2] # accessing a value in a given row\n",
    "\n",
    "# in this case first row, last value"
   ]
  },
  {
   "cell_type": "code",
   "execution_count": 49,
   "id": "96d0598c-6ebd-4934-8477-1386bf4827ad",
   "metadata": {},
   "outputs": [
    {
     "data": {
      "text/plain": [
       "np.int64(30)"
      ]
     },
     "execution_count": 49,
     "metadata": {},
     "output_type": "execute_result"
    }
   ],
   "source": [
    "arr_2D[1,2]  # similar to the example in the cell above"
   ]
  },
  {
   "cell_type": "code",
   "execution_count": 50,
   "id": "bae7a93f-87d9-4f9b-a54d-ce61e2af83d6",
   "metadata": {},
   "outputs": [
    {
     "data": {
      "text/plain": [
       "array([[10, 15],\n",
       "       [25, 30]])"
      ]
     },
     "execution_count": 50,
     "metadata": {},
     "output_type": "execute_result"
    }
   ],
   "source": [
    "arr_2D[:2, 1:]  # accessing values in a portion of an array through slicing"
   ]
  },
  {
   "cell_type": "code",
   "execution_count": 51,
   "id": "c8178118-8ce7-4d5e-8524-6bbaca63f873",
   "metadata": {},
   "outputs": [
    {
     "data": {
      "text/plain": [
       "array([[ 0,  1,  2,  3,  4,  5,  6,  7,  8,  9],\n",
       "       [10, 11, 12, 13, 14, 15, 16, 17, 18, 19],\n",
       "       [20, 21, 22, 23, 24, 25, 26, 27, 28, 29],\n",
       "       [30, 31, 32, 33, 34, 35, 36, 37, 38, 39],\n",
       "       [40, 41, 42, 43, 44, 45, 46, 47, 48, 49]])"
      ]
     },
     "execution_count": 51,
     "metadata": {},
     "output_type": "execute_result"
    }
   ],
   "source": [
    "arr_2d = np.arange(50).reshape(5, 10)\n",
    "arr_2d"
   ]
  },
  {
   "cell_type": "code",
   "execution_count": 52,
   "id": "b49af992-dae6-4c79-8891-9cab9bb39077",
   "metadata": {},
   "outputs": [
    {
     "data": {
      "text/plain": [
       "array([[ 1,  2,  3],\n",
       "       [11, 12, 13],\n",
       "       [21, 22, 23],\n",
       "       [31, 32, 33]])"
      ]
     },
     "execution_count": 52,
     "metadata": {},
     "output_type": "execute_result"
    }
   ],
   "source": [
    "arr_2d[0:4, 1:4]"
   ]
  },
  {
   "cell_type": "code",
   "execution_count": 53,
   "id": "9395ff48-7e9d-44a9-a377-aff7f3b90787",
   "metadata": {},
   "outputs": [
    {
     "data": {
      "text/plain": [
       "array([0, 1, 2, 3, 4, 5, 6, 7, 8, 9])"
      ]
     },
     "execution_count": 53,
     "metadata": {},
     "output_type": "execute_result"
    }
   ],
   "source": [
    "# CREATING AN ARRAY VIEW AND AN ARRAY COPY\n",
    "\n",
    "# array view is a way to access the same data as an existing array without copying it\n",
    "\n",
    "arr = np.arange(0, 10)\n",
    "\n",
    "arr # original array"
   ]
  },
  {
   "cell_type": "code",
   "execution_count": 54,
   "id": "8933d306-0189-4ced-848c-738b66c5c469",
   "metadata": {},
   "outputs": [
    {
     "data": {
      "text/plain": [
       "array([5, 6, 7, 8, 9])"
      ]
     },
     "execution_count": 54,
     "metadata": {},
     "output_type": "execute_result"
    }
   ],
   "source": [
    "arr_view = arr[5:]  # array view creation\n",
    "\n",
    "arr_view"
   ]
  },
  {
   "cell_type": "code",
   "execution_count": 55,
   "id": "7cbdfb70-e181-4b82-8f72-7d68fe56de55",
   "metadata": {},
   "outputs": [
    {
     "data": {
      "text/plain": [
       "True"
      ]
     },
     "execution_count": 55,
     "metadata": {},
     "output_type": "execute_result"
    }
   ],
   "source": [
    "np.shares_memory(arr, arr_view)  # determining if two arrays share memory reference"
   ]
  },
  {
   "cell_type": "code",
   "execution_count": 56,
   "id": "8aef30b1-3723-409d-94d6-77beb6117526",
   "metadata": {},
   "outputs": [
    {
     "data": {
      "text/plain": [
       "array([100, 100, 100, 100, 100])"
      ]
     },
     "execution_count": 56,
     "metadata": {},
     "output_type": "execute_result"
    }
   ],
   "source": [
    "arr_view[:] = 100\n",
    "\n",
    "arr_view"
   ]
  },
  {
   "cell_type": "code",
   "execution_count": 57,
   "id": "43a2243c-9265-488d-8416-1c4c52fbb0a1",
   "metadata": {},
   "outputs": [
    {
     "data": {
      "text/plain": [
       "array([  0,   1,   2,   3,   4, 100, 100, 100, 100, 100])"
      ]
     },
     "execution_count": 57,
     "metadata": {},
     "output_type": "execute_result"
    }
   ],
   "source": [
    "arr  # changes in the view also apply to the original array"
   ]
  },
  {
   "cell_type": "code",
   "execution_count": 58,
   "id": "b412dfc0-39d0-4cc2-9f66-4f1fc9f9578e",
   "metadata": {},
   "outputs": [
    {
     "data": {
      "text/plain": [
       "array([  0,   1,   2,   3,   4, 100, 100, 100, 100, 100])"
      ]
     },
     "execution_count": 58,
     "metadata": {},
     "output_type": "execute_result"
    }
   ],
   "source": [
    "# creating an array copy\n",
    "\n",
    "arr"
   ]
  },
  {
   "cell_type": "code",
   "execution_count": 59,
   "id": "b60ec130-f87a-4040-8d89-db724f37aacc",
   "metadata": {},
   "outputs": [
    {
     "data": {
      "text/plain": [
       "array([100, 100, 100, 100, 100])"
      ]
     },
     "execution_count": 59,
     "metadata": {},
     "output_type": "execute_result"
    }
   ],
   "source": [
    "arr_copy = arr[5:].copy() # creating an array copy\n",
    "\n",
    "arr_copy"
   ]
  },
  {
   "cell_type": "code",
   "execution_count": 60,
   "id": "83d0cc62-d31d-4d82-9a1d-eb19f18de7cc",
   "metadata": {},
   "outputs": [
    {
     "data": {
      "text/plain": [
       "False"
      ]
     },
     "execution_count": 60,
     "metadata": {},
     "output_type": "execute_result"
    }
   ],
   "source": [
    "np.shares_memory(arr, arr_copy)  # determining if two arrays share memory reference"
   ]
  },
  {
   "cell_type": "code",
   "execution_count": 61,
   "id": "05a8c530-10c0-47d1-a171-1c21f683b928",
   "metadata": {},
   "outputs": [
    {
     "data": {
      "text/plain": [
       "array([120, 120, 120, 120, 120])"
      ]
     },
     "execution_count": 61,
     "metadata": {},
     "output_type": "execute_result"
    }
   ],
   "source": [
    "arr_copy[:] = 120\n",
    "\n",
    "arr_copy # changes made to the copy array will not affect the original array"
   ]
  },
  {
   "cell_type": "code",
   "execution_count": 62,
   "id": "ec1bfb7a-45d2-4cc2-a6cc-54b928ba9405",
   "metadata": {},
   "outputs": [
    {
     "data": {
      "text/plain": [
       "array([  0,   1,   2,   3,   4, 100, 100, 100, 100, 100])"
      ]
     },
     "execution_count": 62,
     "metadata": {},
     "output_type": "execute_result"
    }
   ],
   "source": [
    "arr # original array"
   ]
  },
  {
   "cell_type": "markdown",
   "id": "6a55935c-af2d-409a-a5ce-4f2d96aaa3ff",
   "metadata": {},
   "source": [
    "**NUMPY OPERATIONS**"
   ]
  },
  {
   "cell_type": "code",
   "execution_count": 63,
   "id": "94ea03a7-8386-4cd8-a994-3c01f0579380",
   "metadata": {},
   "outputs": [
    {
     "name": "stdout",
     "output_type": "stream",
     "text": [
      "888 μs ± 118 μs per loop (mean ± std. dev. of 7 runs, 1,000 loops each)\n"
     ]
    }
   ],
   "source": [
    "# Time taken to perform operations with Numpy array is much lesser than the time taken by python built-in sequence\n",
    "\n",
    "x = range(1, 1000)\n",
    "\n",
    "%timeit [2**i for i in x]\n",
    "\n",
    "# %timeit gives us the time taken to execute a python statement or expression"
   ]
  },
  {
   "cell_type": "code",
   "execution_count": 64,
   "id": "d4f61dfa-aa11-4d5d-bbe2-4885342c5ced",
   "metadata": {},
   "outputs": [],
   "source": [
    "arr = np.arange(1, 1000)"
   ]
  },
  {
   "cell_type": "code",
   "execution_count": 65,
   "id": "8e49e817-5977-4a35-a959-c9bb65b10121",
   "metadata": {},
   "outputs": [
    {
     "name": "stdout",
     "output_type": "stream",
     "text": [
      "31.1 μs ± 1.84 μs per loop (mean ± std. dev. of 7 runs, 10,000 loops each)\n"
     ]
    }
   ],
   "source": [
    "%timeit np.power(2, arr)"
   ]
  },
  {
   "cell_type": "markdown",
   "id": "acf1e9c8-27b4-4e48-b5b0-3fa84299f0e1",
   "metadata": {},
   "source": [
    "1. Aggregation of an array"
   ]
  },
  {
   "cell_type": "code",
   "execution_count": 80,
   "id": "f8753de5-45c4-400d-b3c3-30b0c58ddb7d",
   "metadata": {},
   "outputs": [
    {
     "data": {
      "text/plain": [
       "array([ 1,  2,  3,  4,  5,  6,  7,  8,  9, 10])"
      ]
     },
     "execution_count": 80,
     "metadata": {},
     "output_type": "execute_result"
    }
   ],
   "source": [
    "arr = np.arange(1, 11)\n",
    "arr"
   ]
  },
  {
   "cell_type": "code",
   "execution_count": 67,
   "id": "ea14a0a1-bdd4-476a-9ccd-98ab6f421eda",
   "metadata": {},
   "outputs": [
    {
     "data": {
      "text/plain": [
       "np.int64(55)"
      ]
     },
     "execution_count": 67,
     "metadata": {},
     "output_type": "execute_result"
    }
   ],
   "source": [
    "np.add.reduce(arr)  # get the sum of all values within an array"
   ]
  },
  {
   "cell_type": "code",
   "execution_count": 68,
   "id": "0ab715cd-761e-42ff-8107-b537a5b19ec6",
   "metadata": {},
   "outputs": [
    {
     "data": {
      "text/plain": [
       "array([ 1,  3,  6, 10, 15, 21, 28, 36, 45, 55])"
      ]
     },
     "execution_count": 68,
     "metadata": {},
     "output_type": "execute_result"
    }
   ],
   "source": [
    "np.add.accumulate(arr) # accumulate the result of applying the operator to all elements"
   ]
  },
  {
   "cell_type": "code",
   "execution_count": 69,
   "id": "8ffa9dd6-f447-4fdf-bcb5-92b9d505ac52",
   "metadata": {},
   "outputs": [
    {
     "data": {
      "text/plain": [
       "np.int64(3628800)"
      ]
     },
     "execution_count": 69,
     "metadata": {},
     "output_type": "execute_result"
    }
   ],
   "source": [
    "np.multiply.reduce(arr) # get the multiplication of all values within an array"
   ]
  },
  {
   "cell_type": "code",
   "execution_count": 70,
   "id": "1d63d07c-e9d3-4eaa-955d-eeeddc892122",
   "metadata": {},
   "outputs": [
    {
     "data": {
      "text/plain": [
       "array([      1,       2,       6,      24,     120,     720,    5040,\n",
       "         40320,  362880, 3628800])"
      ]
     },
     "execution_count": 70,
     "metadata": {},
     "output_type": "execute_result"
    }
   ],
   "source": [
    "np.multiply.accumulate(arr)"
   ]
  },
  {
   "cell_type": "markdown",
   "id": "0e157bce-4de4-4770-86df-2eb1435379fb",
   "metadata": {},
   "source": [
    "2. Elementwise arithmetic operation"
   ]
  },
  {
   "cell_type": "code",
   "execution_count": 71,
   "id": "4ce535bc-4543-4d05-8565-3eb94a84df1f",
   "metadata": {},
   "outputs": [
    {
     "data": {
      "text/plain": [
       "array([ 1,  2,  3,  4,  5,  6,  7,  8,  9, 10])"
      ]
     },
     "execution_count": 71,
     "metadata": {},
     "output_type": "execute_result"
    }
   ],
   "source": [
    "arr"
   ]
  },
  {
   "cell_type": "code",
   "execution_count": 72,
   "id": "cfe59437-00bf-49d0-816b-4e2906555032",
   "metadata": {},
   "outputs": [
    {
     "data": {
      "text/plain": [
       "array([  1,   4,   9,  16,  25,  36,  49,  64,  81, 100])"
      ]
     },
     "execution_count": 72,
     "metadata": {},
     "output_type": "execute_result"
    }
   ],
   "source": [
    "# arr+100\n",
    "# arr-100\n",
    "# arr*100\n",
    "# arr/100\n",
    "arr**2\n",
    "# 1/arr"
   ]
  },
  {
   "cell_type": "markdown",
   "id": "223a2916-40b5-41c1-b945-19239480ab6b",
   "metadata": {},
   "source": [
    "3. Arithmetic operations using numpy function"
   ]
  },
  {
   "cell_type": "code",
   "execution_count": 73,
   "id": "04a55724-795f-4fcc-b6c5-f9240917dd60",
   "metadata": {},
   "outputs": [
    {
     "data": {
      "text/plain": [
       "(array([1, 1, 1, 1, 1, 1, 1, 1, 1, 1]), array([0, 0, 0, 0, 0, 0, 0, 0, 0, 0]))"
      ]
     },
     "execution_count": 73,
     "metadata": {},
     "output_type": "execute_result"
    }
   ],
   "source": [
    "# np.add(arr, arr)\n",
    "# np.subtract(arr, arr)\n",
    "# np.multiply(arr, arr)\n",
    "# np.divide(arr, arr)\n",
    "np.divmod(arr, arr)"
   ]
  },
  {
   "cell_type": "code",
   "execution_count": 74,
   "id": "f2a5f34e-33c7-4979-a4aa-ceff13e72665",
   "metadata": {},
   "outputs": [
    {
     "data": {
      "text/plain": [
       "array([    3,     9,    27,    81,   243,   729,  2187,  6561, 19683,\n",
       "       59049])"
      ]
     },
     "execution_count": 74,
     "metadata": {},
     "output_type": "execute_result"
    }
   ],
   "source": [
    "# np.sqrt(arr)\n",
    "# np.log(arr)\n",
    "np.power(3, arr)\n",
    "# np.mod(arr, arr)\n",
    "# np.abs(arr)\n",
    "# np.exp(arr)\n",
    "# np.exp2(arr)"
   ]
  },
  {
   "cell_type": "code",
   "execution_count": 75,
   "id": "70a61ecf-5997-422f-87d6-195a67b07d6b",
   "metadata": {},
   "outputs": [
    {
     "ename": "ValueError",
     "evalue": "operands could not be broadcast together with shapes (4,) (2,) ",
     "output_type": "error",
     "traceback": [
      "\u001b[1;31m---------------------------------------------------------------------------\u001b[0m",
      "\u001b[1;31mValueError\u001b[0m                                Traceback (most recent call last)",
      "Cell \u001b[1;32mIn[75], line 5\u001b[0m\n\u001b[0;32m      1\u001b[0m \u001b[38;5;66;03m# Shape mismatch of an array - this occurs when you perform operations such as addition on arrays of different shapes\u001b[39;00m\n\u001b[0;32m      3\u001b[0m a \u001b[38;5;241m=\u001b[39m np\u001b[38;5;241m.\u001b[39marange(\u001b[38;5;241m4\u001b[39m)\n\u001b[1;32m----> 5\u001b[0m a \u001b[38;5;241m+\u001b[39m np\u001b[38;5;241m.\u001b[39marray([\u001b[38;5;241m1\u001b[39m,\u001b[38;5;241m2\u001b[39m])\n",
      "\u001b[1;31mValueError\u001b[0m: operands could not be broadcast together with shapes (4,) (2,) "
     ]
    }
   ],
   "source": [
    "# Shape mismatch of an array - this occurs when you perform operations such as addition on arrays of different shapes\n",
    "\n",
    "a = np.arange(4)\n",
    "\n",
    "a + np.array([1,2])"
   ]
  },
  {
   "cell_type": "markdown",
   "id": "c91dbb02-c4ce-4954-b245-864952652d82",
   "metadata": {},
   "source": [
    "4. Logical operations"
   ]
  },
  {
   "cell_type": "code",
   "execution_count": 88,
   "id": "ec49b69b-539d-4d7f-91dd-d751fc2ea799",
   "metadata": {},
   "outputs": [
    {
     "data": {
      "text/plain": [
       "array([False,  True, False,  True])"
      ]
     },
     "execution_count": 88,
     "metadata": {},
     "output_type": "execute_result"
    }
   ],
   "source": [
    "a = np.array([0,1,1,0], dtype = bool)\n",
    "b = np.array([0,0,1,1], dtype = bool)\n",
    "\n",
    "# np.logical_or(a,b)\n",
    "# np.logical_and(a,b)\n",
    "np.logical_xor(a,b)\n",
    "# np.logical_not(a)"
   ]
  },
  {
   "cell_type": "markdown",
   "id": "2421cb57-f414-4194-9576-343527140d09",
   "metadata": {},
   "source": [
    "5. Comparison operations"
   ]
  },
  {
   "cell_type": "code",
   "execution_count": null,
   "id": "14054382-6967-4979-8c71-025e8ae34f30",
   "metadata": {},
   "outputs": [],
   "source": [
    "a = np.array([1,2,3,4])\n",
    "b = np.array([1,4,3,6])\n",
    "\n",
    "# np.array_equal(a,b)  # if 2 arrays have the same values\n",
    "\n",
    "# np.greater_equal(a,b) # a>=b\n",
    "np.less(a,b)        #a<b\n",
    "# np.less_equal(a,b)  #a<=b\n",
    "# np.not_equal(a,b)   #a!=b\n",
    "# np.equal(a,b)       #a==b"
   ]
  },
  {
   "cell_type": "markdown",
   "id": "b6b1e572-0f1a-4664-b211-c16cf9a8e9e6",
   "metadata": {},
   "source": [
    "6. Bitwise operations"
   ]
  },
  {
   "cell_type": "code",
   "execution_count": 87,
   "id": "8cccdf66-756f-4561-b805-cb522aab5a6a",
   "metadata": {},
   "outputs": [
    {
     "data": {
      "text/plain": [
       "np.int64(28)"
      ]
     },
     "execution_count": 87,
     "metadata": {},
     "output_type": "execute_result"
    }
   ],
   "source": [
    "np.binary_repr(10)\n",
    "\n",
    "# np.bitwise_and(arr>4,arr<10)  # arr>4 and arr<10\n",
    "# np.bitwise_or(arr==4, arr==10) # arr==4| arr==10\n",
    "np.bitwise_xor(13, 17)  # arr1^arr2\n",
    "# np.binary_repr(28)\n",
    "# np.bitwise_not(arr)   # ~arr"
   ]
  },
  {
   "cell_type": "markdown",
   "id": "468739b2-1a6e-4d37-b90d-93ebe47aea36",
   "metadata": {},
   "source": [
    "6. Trigonometric operations"
   ]
  },
  {
   "cell_type": "code",
   "execution_count": 98,
   "id": "17a811b8-087e-450f-86c8-ae3bd286869b",
   "metadata": {},
   "outputs": [
    {
     "data": {
      "text/plain": [
       "array([0.        , 1.57079633, 3.14159265])"
      ]
     },
     "execution_count": 98,
     "metadata": {},
     "output_type": "execute_result"
    }
   ],
   "source": [
    "theta = np.linspace(0, np.pi, 3) # degree in radians\n",
    "theta"
   ]
  },
  {
   "cell_type": "code",
   "execution_count": 90,
   "id": "9e893f6d-b362-4139-a1a2-f7eb0789e4ed",
   "metadata": {},
   "outputs": [
    {
     "name": "stdout",
     "output_type": "stream",
     "text": [
      "[0.0000000e+00 1.0000000e+00 1.2246468e-16]\n",
      "[ 1.000000e+00  6.123234e-17 -1.000000e+00]\n",
      "[ 0.00000000e+00  1.63312394e+16 -1.22464680e-16]\n"
     ]
    }
   ],
   "source": [
    "print(np.sin(theta))\n",
    "print(np.cos(theta))\n",
    "print(np.tan(theta))"
   ]
  },
  {
   "cell_type": "markdown",
   "id": "39c82aa2-30ba-48a4-a74a-0e50ad480ad4",
   "metadata": {},
   "source": [
    "7. Statistical operations"
   ]
  },
  {
   "cell_type": "code",
   "execution_count": 91,
   "id": "8386de36-d7d2-457e-93e2-03e8831ba718",
   "metadata": {},
   "outputs": [
    {
     "data": {
      "text/plain": [
       "array([158, 167, 152, 178, 150, 163, 172, 151, 175, 164, 167, 150, 174,\n",
       "       154, 172, 156, 173, 160, 164, 167], dtype=int32)"
      ]
     },
     "execution_count": 91,
     "metadata": {},
     "output_type": "execute_result"
    }
   ],
   "source": [
    "x = np.random.randint(150, 180, (20,))\n",
    "x"
   ]
  },
  {
   "cell_type": "code",
   "execution_count": 104,
   "id": "2ad2d375-3a29-4f4d-931c-aad48ed339e9",
   "metadata": {},
   "outputs": [
    {
     "data": {
      "text/plain": [
       "np.int64(36)"
      ]
     },
     "execution_count": 104,
     "metadata": {},
     "output_type": "execute_result"
    }
   ],
   "source": [
    "np.sum(x)  # sum of elements\n",
    "# np.prod(x) # product of elements\n",
    "# np.mean(x) # mean of elements\n",
    "# np.std(x)  # standard deviation\n",
    "# np.var(x)  # variance\n",
    "# np.median(x) # median of elements\n",
    "# np.percentile(x, 75) #compute rank-based statistics of elements\n",
    "# np.max(x)  # maximum value\n",
    "# np.min(x)  # minimum value\n",
    "# np.argmax(x) # determining the index of a max value within the array\n",
    "# np.argmin(x) # determining the index of the min value within the array"
   ]
  },
  {
   "cell_type": "code",
   "execution_count": 106,
   "id": "b4ffc4ba-2c52-4e60-8956-8a97e51d4276",
   "metadata": {},
   "outputs": [
    {
     "data": {
      "text/plain": [
       "array([[3, 4, 3],\n",
       "       [2, 0, 2],\n",
       "       [0, 1, 4],\n",
       "       [3, 1, 2]], dtype=int32)"
      ]
     },
     "execution_count": 106,
     "metadata": {},
     "output_type": "execute_result"
    }
   ],
   "source": [
    "# performing statistical operation on a 2D array\n",
    "\n",
    "p = np.random.randint(0, 5,(4,3))\n",
    "p"
   ]
  },
  {
   "cell_type": "code",
   "execution_count": 108,
   "id": "a3c192fb-3bbc-4381-ae82-e4e438b88d9e",
   "metadata": {},
   "outputs": [
    {
     "data": {
      "text/plain": [
       "array([10,  4,  5,  6])"
      ]
     },
     "execution_count": 108,
     "metadata": {},
     "output_type": "execute_result"
    }
   ],
   "source": [
    "# For a 2D array, specify the axis = 0 to perform this operation vertically\n",
    "# For a 2D array specify the axis = 1, to perform this operation horizontally\n",
    "\n",
    "np.sum(p, axis = 1)  # sum of elements\n",
    "# np.prod(p, axis = 0) # product of elements\n",
    "# np.mean(p) # mean of elements\n",
    "# np.std(p)  # standard deviation\n",
    "# np.var(p)  # variance\n",
    "# np.median(p) # median of elements\n",
    "# np.percentile(p, 75) #compute rank-based statistics of elements\n",
    "# np.max(p)  # maximum value\n",
    "# np.min(p)  # minimum value\n",
    "# np.argmax(p) # determining the index of a max value within the array\n",
    "# np.argmin(p) # determining the index of the min value within the array"
   ]
  },
  {
   "cell_type": "code",
   "execution_count": null,
   "id": "1218e8ba-0335-4e30-88b2-611ddcdbf7c9",
   "metadata": {},
   "outputs": [],
   "source": []
  }
 ],
 "metadata": {
  "kernelspec": {
   "display_name": "Python 3 (ipykernel)",
   "language": "python",
   "name": "python3"
  },
  "language_info": {
   "codemirror_mode": {
    "name": "ipython",
    "version": 3
   },
   "file_extension": ".py",
   "mimetype": "text/x-python",
   "name": "python",
   "nbconvert_exporter": "python",
   "pygments_lexer": "ipython3",
   "version": "3.13.5"
  }
 },
 "nbformat": 4,
 "nbformat_minor": 5
}
