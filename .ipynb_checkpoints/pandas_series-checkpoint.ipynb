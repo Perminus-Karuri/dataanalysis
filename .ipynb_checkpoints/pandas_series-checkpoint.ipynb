{
 "cells": [
  {
   "cell_type": "markdown",
   "id": "cc2c78ba-9bcb-4f23-a537-c739a4a41675",
   "metadata": {},
   "source": [
    "**PANDAS INTRODUCTION**"
   ]
  },
  {
   "cell_type": "code",
   "execution_count": 1,
   "id": "3cbf3ae2-027b-464c-8f24-d91532cf4fcc",
   "metadata": {},
   "outputs": [],
   "source": [
    "# pandas is built on top of NumPy\n",
    "\n",
    "# Helps to create ds such as series and dataframe and it comes with functions which helps to efficiently\n",
    "# perform data munging tasks \n",
    "\n",
    "# data munging tasks involves the conversion of raw data from one form to another\n",
    "\n",
    "# Dataframes are essentially multi-dimensional arrays with attached row and columns labels and often\n",
    "# with heterogenous data types and/or missing data\n",
    " \n",
    "# Pandas package can read data from different sources like excel,sql,SAS,SPSS and many more\n",
    "\n",
    "# Pandas dataframe can be converted into different formats like excel, sql, SAS, SPSS and hence\n",
    "# it gives us the option of efficient storage\n",
    "\n",
    "# Pandas implements a number of powerful data operations familiar to users of both database frameworks\n",
    "# and spreadsheet programs"
   ]
  },
  {
   "cell_type": "markdown",
   "id": "d56745f3-aba9-477f-a33c-412abafd9f87",
   "metadata": {},
   "source": [
    "**Pandas Series**"
   ]
  },
  {
   "cell_type": "markdown",
   "id": "68bfc9cb-5b93-4a10-bda1-dd891af3c732",
   "metadata": {},
   "source": [
    "**Pandas series**\n",
    "a data structure with one-multi-dimensional labeled array capable of holding any data type e.g. integers, strings, floating point numbers, python objects etc"
   ]
  },
  {
   "cell_type": "code",
   "execution_count": 2,
   "id": "16b2bf2c-d151-498f-b4bf-683ee16efd33",
   "metadata": {},
   "outputs": [],
   "source": [
    "# creating a series using a pandas pd.series\n",
    "\n",
    "import numpy as np\n",
    "import pandas as pd\n",
    "\n",
    "Marks_arr = np.random.randint(35, 100, 6)\n",
    "\n",
    "Marks = [80,93,77,85,75,77]\n",
    "\n",
    "Subjects = ['English', 'Maths', 'Social', 'Science', 'Lang1', 'Lang2']"
   ]
  },
  {
   "cell_type": "code",
   "execution_count": 11,
   "id": "5f010fe8-0a03-4713-b00b-b02f12def588",
   "metadata": {},
   "outputs": [
    {
     "data": {
      "text/plain": [
       "English    80\n",
       "Maths      93\n",
       "Social     77\n",
       "Science    85\n",
       "Lang1      75\n",
       "Lang2      77\n",
       "dtype: int64"
      ]
     },
     "execution_count": 11,
     "metadata": {},
     "output_type": "execute_result"
    }
   ],
   "source": [
    "# pd.Series(data = Marks_arr)\n",
    "\n",
    "# pd.Series(data = Marks_arr, index = Subjects)\n",
    "\n",
    "Score = pd.Series(Marks, Subjects)\n",
    "Score"
   ]
  },
  {
   "cell_type": "code",
   "execution_count": 12,
   "id": "00ef39ba-f90c-4074-8807-8f6611a62d0f",
   "metadata": {},
   "outputs": [
    {
     "data": {
      "text/plain": [
       "pandas.core.series.Series"
      ]
     },
     "execution_count": 12,
     "metadata": {},
     "output_type": "execute_result"
    }
   ],
   "source": [
    "type(Score)"
   ]
  },
  {
   "cell_type": "markdown",
   "id": "73f078b6-86ad-4c00-a088-897d06567b60",
   "metadata": {},
   "source": [
    "**Attributes of a series**"
   ]
  },
  {
   "cell_type": "code",
   "execution_count": null,
   "id": "b9615718-e81b-45fb-93be-68e2d0c14436",
   "metadata": {},
   "outputs": [],
   "source": [
    "print()"
   ]
  }
 ],
 "metadata": {
  "kernelspec": {
   "display_name": "Python 3 (ipykernel)",
   "language": "python",
   "name": "python3"
  },
  "language_info": {
   "codemirror_mode": {
    "name": "ipython",
    "version": 3
   },
   "file_extension": ".py",
   "mimetype": "text/x-python",
   "name": "python",
   "nbconvert_exporter": "python",
   "pygments_lexer": "ipython3",
   "version": "3.13.5"
  }
 },
 "nbformat": 4,
 "nbformat_minor": 5
}
